{
    "cells": [
        {
            "cell_type": "code",
            "execution_count": 9,
            "metadata": {},
            "outputs": [
                {
                    "name": "stdout",
                    "output_type": "stream",
                    "text": [
                        "The autoreload extension is already loaded. To reload it, use:\n",
                        "  %reload_ext autoreload\n"
                    ]
                }
            ],
            "source": [
                "%load_ext autoreload\n",
                "%autoreload 2\n",
                "import sys\n",
                "# map folder using sys\n",
                "sys.path.append('../')\n",
                "\n",
                "import vectorbt as vbt\n",
                "from galgoz import DATA_FOLDER\n",
                "from galgoz.utils import set_data_index_and_time_str\n",
                "import pandas as pd\n",
                "import numpy as np\n",
                "import talib\n",
                "from vectorbt import IndicatorFactory as IF\n"
            ]
        },
        {
            "cell_type": "code",
            "execution_count": 10,
            "metadata": {},
            "outputs": [],
            "source": [
                "# Load data from pkl file in DATA_FOLDER\n",
                "data = pd.read_pickle(DATA_FOLDER / \"GBP_JPY_H1.pkl\")\n",
                "data = set_data_index_and_time_str(data)"
            ]
        },
        {
            "cell_type": "code",
            "execution_count": 11,
            "metadata": {},
            "outputs": [
                {
                    "name": "stdout",
                    "output_type": "stream",
                    "text": [
                        "<class 'pandas.core.frame.DataFrame'>\n",
                        "DatetimeIndex: 127594 entries, 2005-01-02 18:00:00+00:00 to 2025-02-06 23:00:00+00:00\n",
                        "Data columns (total 8 columns):\n",
                        " #   Column    Non-Null Count   Dtype  \n",
                        "---  ------    --------------   -----  \n",
                        " 0   index     127594 non-null  int64  \n",
                        " 1   complete  127594 non-null  int64  \n",
                        " 2   volume    127594 non-null  int64  \n",
                        " 3   mid_o     127594 non-null  float64\n",
                        " 4   mid_h     127594 non-null  float64\n",
                        " 5   mid_l     127594 non-null  float64\n",
                        " 6   mid_c     127594 non-null  float64\n",
                        " 7   time_str  127594 non-null  object \n",
                        "dtypes: float64(4), int64(3), object(1)\n",
                        "memory usage: 8.8+ MB\n"
                    ]
                }
            ],
            "source": [
                "data.info()"
            ]
        },
        {
            "cell_type": "code",
            "execution_count": 12,
            "metadata": {},
            "outputs": [],
            "source": [
                "from galgoz.indicators.trend import supertrend\n",
                "st = supertrend(data.mid_h, data.mid_l, data.mid_c)"
            ]
        },
        {
            "cell_type": "code",
            "execution_count": 13,
            "metadata": {},
            "outputs": [
                {
                    "name": "stdout",
                    "output_type": "stream",
                    "text": [
                        "time\n",
                        "2005-01-02 18:00:00+00:00           NaN\n",
                        "2005-01-02 19:00:00+00:00           NaN\n",
                        "2005-01-02 20:00:00+00:00           NaN\n",
                        "2005-01-02 21:00:00+00:00           NaN\n",
                        "2005-01-02 22:00:00+00:00           NaN\n",
                        "                                ...    \n",
                        "2025-02-06 19:00:00+00:00    191.248700\n",
                        "2025-02-06 20:00:00+00:00    191.248700\n",
                        "2025-02-06 21:00:00+00:00    191.197014\n",
                        "2025-02-06 22:00:00+00:00    190.989942\n",
                        "2025-02-06 23:00:00+00:00    190.774410\n",
                        "Name: (14, 6.5), Length: 127594, dtype: float64\n"
                    ]
                }
            ],
            "source": [
                "SuperTrend = IF(\n",
                "    input_names=[\"high\", \"low\", \"close\"],\n",
                "    param_names=[\"period\", \"multiplier\"],\n",
                "    output_names=[\"trend\", \"dir\", \"long\", \"short\"],\n",
                "    ).from_apply_func(supertrend)\n",
                "\n",
                "ind = SuperTrend.run(data.mid_h, data.mid_l, data.mid_c, period=14, multiplier=6.5)\n",
                "print(ind.trend)\n",
                "    "
            ]
        },
        {
            "cell_type": "code",
            "execution_count": 14,
            "metadata": {},
            "outputs": [
                {
                    "data": {
                        "text/plain": [
                            "time\n",
                            "2005-01-02 18:00:00+00:00           NaN\n",
                            "2005-01-02 19:00:00+00:00           NaN\n",
                            "2005-01-02 20:00:00+00:00           NaN\n",
                            "2005-01-02 21:00:00+00:00           NaN\n",
                            "2005-01-02 22:00:00+00:00           NaN\n",
                            "                                ...    \n",
                            "2025-02-06 19:00:00+00:00    191.248700\n",
                            "2025-02-06 20:00:00+00:00    191.248700\n",
                            "2025-02-06 21:00:00+00:00    191.197014\n",
                            "2025-02-06 22:00:00+00:00    190.989942\n",
                            "2025-02-06 23:00:00+00:00    190.774410\n",
                            "Length: 127594, dtype: float64"
                        ]
                    },
                    "execution_count": 14,
                    "metadata": {},
                    "output_type": "execute_result"
                }
            ],
            "source": [
                "st[0]"
            ]
        },
        {
            "cell_type": "code",
            "execution_count": 15,
            "metadata": {},
            "outputs": [
                {
                    "data": {
                        "text/plain": [
                            "<bound method NDFrame.tail of time\n",
                            "2005-01-02 18:00:00+00:00    196.790\n",
                            "2005-01-02 19:00:00+00:00    197.130\n",
                            "2005-01-02 20:00:00+00:00    197.180\n",
                            "2005-01-02 21:00:00+00:00    197.150\n",
                            "2005-01-02 22:00:00+00:00    196.950\n",
                            "                              ...   \n",
                            "2025-02-06 19:00:00+00:00    188.264\n",
                            "2025-02-06 20:00:00+00:00    188.500\n",
                            "2025-02-06 21:00:00+00:00    188.346\n",
                            "2025-02-06 22:00:00+00:00    188.296\n",
                            "2025-02-06 23:00:00+00:00    187.976\n",
                            "Name: mid_c, Length: 127594, dtype: float64>"
                        ]
                    },
                    "execution_count": 15,
                    "metadata": {},
                    "output_type": "execute_result"
                }
            ],
            "source": [
                "data.mid_c.tail"
            ]
        },
        {
            "cell_type": "code",
            "execution_count": null,
            "metadata": {},
            "outputs": [],
            "source": []
        }
    ],
    "metadata": {
        "kernelspec": {
            "display_name": ".venv",
            "language": "python",
            "name": "python3"
        },
        "language_info": {
            "codemirror_mode": {
                "name": "ipython",
                "version": 3
            },
            "file_extension": ".py",
            "mimetype": "text/x-python",
            "name": "python",
            "nbconvert_exporter": "python",
            "pygments_lexer": "ipython3",
            "version": "3.11.9"
        }
    },
    "nbformat": 4,
    "nbformat_minor": 2
}
