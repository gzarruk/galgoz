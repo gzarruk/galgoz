{
    "cells": [
        {
            "cell_type": "code",
            "execution_count": 1,
            "metadata": {},
            "outputs": [],
            "source": [
                "%load_ext autoreload\n",
                "%autoreload 2\n",
                "import sys\n",
                "# map folder using sys\n",
                "sys.path.append('../')\n",
                "\n",
                "import vectorbt as vbt\n",
                "from galgoz import DATA_FOLDER\n",
                "from galgoz.utils import set_data_index_and_time_str\n",
                "import pandas as pd\n"
            ]
        },
        {
            "cell_type": "code",
            "execution_count": 24,
            "metadata": {},
            "outputs": [],
            "source": [
                "# Load data from pkl file in DATA_FOLDER\n",
                "data_o = pd.read_pickle(DATA_FOLDER / \"GBP_JPY_H1.pkl\")\n",
                "data_o = set_data_index_and_time_str(data_o)"
            ]
        },
        {
            "cell_type": "code",
            "execution_count": 25,
            "metadata": {},
            "outputs": [
                {
                    "name": "stdout",
                    "output_type": "stream",
                    "text": [
                        "<class 'pandas.core.frame.DataFrame'>\n",
                        "DatetimeIndex: 127594 entries, 2005-01-02 18:00:00+00:00 to 2025-02-06 23:00:00+00:00\n",
                        "Data columns (total 8 columns):\n",
                        " #   Column    Non-Null Count   Dtype  \n",
                        "---  ------    --------------   -----  \n",
                        " 0   index     127594 non-null  int64  \n",
                        " 1   complete  127594 non-null  int64  \n",
                        " 2   volume    127594 non-null  int64  \n",
                        " 3   mid_o     127594 non-null  float64\n",
                        " 4   mid_h     127594 non-null  float64\n",
                        " 5   mid_l     127594 non-null  float64\n",
                        " 6   mid_c     127594 non-null  float64\n",
                        " 7   time_str  127594 non-null  object \n",
                        "dtypes: float64(4), int64(3), object(1)\n",
                        "memory usage: 8.8+ MB\n"
                    ]
                }
            ],
            "source": [
                "data_o.info()"
            ]
        },
        {
            "cell_type": "code",
            "execution_count": null,
            "metadata": {},
            "outputs": [],
            "source": []
        }
    ],
    "metadata": {
        "kernelspec": {
            "display_name": ".venv",
            "language": "python",
            "name": "python3"
        },
        "language_info": {
            "codemirror_mode": {
                "name": "ipython",
                "version": 3
            },
            "file_extension": ".py",
            "mimetype": "text/x-python",
            "name": "python",
            "nbconvert_exporter": "python",
            "pygments_lexer": "ipython3",
            "version": "3.11.9"
        }
    },
    "nbformat": 4,
    "nbformat_minor": 2
}
