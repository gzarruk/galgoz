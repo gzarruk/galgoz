{
    "cells": [
        {
            "cell_type": "code",
            "execution_count": 2,
            "metadata": {},
            "outputs": [
                {
                    "name": "stdout",
                    "output_type": "stream",
                    "text": [
                        "The autoreload extension is already loaded. To reload it, use:\n",
                        "  %reload_ext autoreload\n"
                    ]
                }
            ],
            "source": [
                "%load_ext autoreload\n",
                "%autoreload 2\n",
                "import sys\n",
                "# map folder using sys\n",
                "sys.path.append('../')\n",
                "\n",
                "import vectorbt as vbt\n",
                "from galgoz import DATA_FOLDER\n",
                "from galgoz.utils import set_data_index_and_time_str\n",
                "import pandas as pd\n",
                "import numpy as np\n",
                "import talib\n",
                "from vectorbt import IndicatorFactory as IF\n",
                "import datetime\n"
            ]
        },
        {
            "cell_type": "code",
            "execution_count": 7,
            "metadata": {},
            "outputs": [
                {
                    "name": "stdout",
                    "output_type": "stream",
                    "text": [
                        "<class 'pandas.core.series.Series'>\n",
                        "Datetime\n",
                        "2025-02-06 09:37:00+00:00    98749.500000\n",
                        "2025-02-06 09:38:00+00:00    98708.812500\n",
                        "2025-02-06 09:39:00+00:00    98684.125000\n",
                        "2025-02-06 09:40:00+00:00    98671.812500\n",
                        "2025-02-06 09:41:00+00:00    98686.546875\n",
                        "                                 ...     \n",
                        "2025-02-08 09:28:00+00:00    96122.437500\n",
                        "2025-02-08 09:29:00+00:00    96178.664062\n",
                        "2025-02-08 09:30:00+00:00    96159.679688\n",
                        "2025-02-08 09:31:00+00:00    96163.875000\n",
                        "2025-02-08 09:32:00+00:00    96147.742188\n",
                        "Name: Close, Length: 2181, dtype: float64\n",
                        "<class 'pandas.core.series.Series'>\n",
                        "DatetimeIndex: 2181 entries, 2025-02-06 09:37:00+00:00 to 2025-02-08 09:32:00+00:00\n",
                        "Series name: Close\n",
                        "Non-Null Count  Dtype  \n",
                        "--------------  -----  \n",
                        "2181 non-null   float64\n",
                        "dtypes: float64(1)\n",
                        "memory usage: 34.1 KB\n"
                    ]
                }
            ],
            "source": [
                "# Load data from pkl file in DATA_FOLDER\n",
                "end_time = datetime.datetime.now()\n",
                "start_time = end_time - datetime.timedelta(days=2)\n",
                "btc_price = vbt.YFData.download('BTC-USD',\n",
                "                                missing_index='drop',\n",
                "                                start=start_time,\n",
                "                                end=end_time,\n",
                "                                interval='1m').get(\"Close\")\n",
                "print(type(btc_price))\n",
                "print(btc_price)\n",
                "btc_price.info()"
            ]
        },
        {
            "cell_type": "code",
            "execution_count": 8,
            "metadata": {},
            "outputs": [
                {
                    "name": "stdout",
                    "output_type": "stream",
                    "text": [
                        "<class 'pandas.core.frame.DataFrame'>\n",
                        "                            index  complete  volume    mid_o    mid_h  \\\n",
                        "time                                                                    \n",
                        "2005-01-02 18:00:00+00:00       0         1       4  196.780  196.820   \n",
                        "2005-01-02 19:00:00+00:00       1         1      54  196.910  197.210   \n",
                        "2005-01-02 20:00:00+00:00       2         1     127  197.120  197.250   \n",
                        "2005-01-02 21:00:00+00:00       3         1     199  197.180  197.300   \n",
                        "2005-01-02 22:00:00+00:00       4         1     144  197.140  197.150   \n",
                        "...                           ...       ...     ...      ...      ...   \n",
                        "2025-02-06 19:00:00+00:00  127589         1    9454  188.390  188.436   \n",
                        "2025-02-06 20:00:00+00:00  127590         1    6476  188.266  188.520   \n",
                        "2025-02-06 21:00:00+00:00  127591         1    3760  188.498  188.508   \n",
                        "2025-02-06 22:00:00+00:00  127592         1    1132  188.372  188.414   \n",
                        "2025-02-06 23:00:00+00:00  127593         1    4544  188.308  188.318   \n",
                        "\n",
                        "                             mid_l    mid_c            time_str  \n",
                        "time                                                             \n",
                        "2005-01-02 18:00:00+00:00  196.750  196.790   Jan 02, '05 18:00  \n",
                        "2005-01-02 19:00:00+00:00  196.880  197.130   Jan 02, '05 19:00  \n",
                        "2005-01-02 20:00:00+00:00  197.030  197.180   Jan 02, '05 20:00  \n",
                        "2005-01-02 21:00:00+00:00  197.080  197.150   Jan 02, '05 21:00  \n",
                        "2005-01-02 22:00:00+00:00  196.920  196.950   Jan 02, '05 22:00  \n",
                        "...                            ...      ...                 ...  \n",
                        "2025-02-06 19:00:00+00:00  188.076  188.264   Feb 06, '25 19:00  \n",
                        "2025-02-06 20:00:00+00:00  188.253  188.500   Feb 06, '25 20:00  \n",
                        "2025-02-06 21:00:00+00:00  188.325  188.346   Feb 06, '25 21:00  \n",
                        "2025-02-06 22:00:00+00:00  188.247  188.296   Feb 06, '25 22:00  \n",
                        "2025-02-06 23:00:00+00:00  187.952  187.976   Feb 06, '25 23:00  \n",
                        "\n",
                        "[127594 rows x 8 columns]\n",
                        "<class 'pandas.core.frame.DataFrame'>\n",
                        "DatetimeIndex: 127594 entries, 2005-01-02 18:00:00+00:00 to 2025-02-06 23:00:00+00:00\n",
                        "Data columns (total 8 columns):\n",
                        " #   Column    Non-Null Count   Dtype  \n",
                        "---  ------    --------------   -----  \n",
                        " 0   index     127594 non-null  int64  \n",
                        " 1   complete  127594 non-null  int64  \n",
                        " 2   volume    127594 non-null  int64  \n",
                        " 3   mid_o     127594 non-null  float64\n",
                        " 4   mid_h     127594 non-null  float64\n",
                        " 5   mid_l     127594 non-null  float64\n",
                        " 6   mid_c     127594 non-null  float64\n",
                        " 7   time_str  127594 non-null  object \n",
                        "dtypes: float64(4), int64(3), object(1)\n",
                        "memory usage: 8.8+ MB\n"
                    ]
                }
            ],
            "source": [
                "data = pd.read_pickle(DATA_FOLDER / \"GBP_JPY_H1.pkl\")\n",
                "data = set_data_index_and_time_str(data)\n",
                "print(type(data))\n",
                "print(data)\n",
                "data.info()"
            ]
        },
        {
            "cell_type": "code",
            "execution_count": 31,
            "metadata": {},
            "outputs": [
                {
                    "name": "stdout",
                    "output_type": "stream",
                    "text": [
                        "Datetime\n",
                        "2025-02-06 09:37:00+00:00             NaN\n",
                        "2025-02-06 09:38:00+00:00             NaN\n",
                        "2025-02-06 09:39:00+00:00             NaN\n",
                        "2025-02-06 09:40:00+00:00             NaN\n",
                        "2025-02-06 09:41:00+00:00             NaN\n",
                        "                                 ...     \n",
                        "2025-02-08 09:28:00+00:00    96040.070685\n",
                        "2025-02-08 09:29:00+00:00    96051.969866\n",
                        "2025-02-08 09:30:00+00:00    96063.433780\n",
                        "2025-02-08 09:31:00+00:00    96072.172247\n",
                        "2025-02-08 09:32:00+00:00    96079.684524\n",
                        "Name: (21, Close), Length: 2181, dtype: float64\n"
                    ]
                }
            ],
            "source": [
                "def custom_indicator(close, window=15):\n",
                "    close_series = pd.Series(np.squeeze(close))\n",
                "    sma = close_series.rolling(window=window).mean()\n",
                "    return sma\n",
                "\n",
                "# Create an indicator factory\n",
                "ind = vbt.IndicatorFactory(\n",
                "    class_name='CustomIndicator',\n",
                "    short_name='custom',\n",
                "    input_names=['close'], \n",
                "    param_names=['window'],\n",
                "    output_names=['sma']).from_apply_func(custom_indicator, window=15)\n",
                "\n",
                "res = ind.run(btc_price, window=21)\n",
                "print(res.sma)\n"
            ]
        },
        {
            "cell_type": "code",
            "execution_count": 35,
            "metadata": {},
            "outputs": [
                {
                    "data": {
                        "text/plain": [
                            "pandas.core.series.Series"
                        ]
                    },
                    "execution_count": 35,
                    "metadata": {},
                    "output_type": "execute_result"
                }
            ],
            "source": [
                "close_series = pd.Series(np.squeeze(btc_price))\n",
                "type(close_series)"
            ]
        },
        {
            "cell_type": "code",
            "execution_count": 36,
            "metadata": {},
            "outputs": [
                {
                    "data": {
                        "text/plain": [
                            "Datetime\n",
                            "2025-02-06 09:37:00+00:00    98749.500000\n",
                            "2025-02-06 09:38:00+00:00    98708.812500\n",
                            "2025-02-06 09:39:00+00:00    98684.125000\n",
                            "2025-02-06 09:40:00+00:00    98671.812500\n",
                            "2025-02-06 09:41:00+00:00    98686.546875\n",
                            "                                 ...     \n",
                            "2025-02-08 09:28:00+00:00    96122.437500\n",
                            "2025-02-08 09:29:00+00:00    96178.664062\n",
                            "2025-02-08 09:30:00+00:00    96159.679688\n",
                            "2025-02-08 09:31:00+00:00    96163.875000\n",
                            "2025-02-08 09:32:00+00:00    96147.742188\n",
                            "Name: Close, Length: 2181, dtype: float64"
                        ]
                    },
                    "execution_count": 36,
                    "metadata": {},
                    "output_type": "execute_result"
                }
            ],
            "source": [
                "np.squeeze(btc_price)"
            ]
        },
        {
            "cell_type": "code",
            "execution_count": null,
            "metadata": {},
            "outputs": [],
            "source": []
        }
    ],
    "metadata": {
        "kernelspec": {
            "display_name": ".venv",
            "language": "python",
            "name": "python3"
        },
        "language_info": {
            "codemirror_mode": {
                "name": "ipython",
                "version": 3
            },
            "file_extension": ".py",
            "mimetype": "text/x-python",
            "name": "python",
            "nbconvert_exporter": "python",
            "pygments_lexer": "ipython3",
            "version": "3.11.9"
        }
    },
    "nbformat": 4,
    "nbformat_minor": 2
}
