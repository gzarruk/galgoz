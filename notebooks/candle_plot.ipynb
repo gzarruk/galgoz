{
 "cells": [
  {
   "cell_type": "code",
   "execution_count": 1,
   "metadata": {},
   "outputs": [],
   "source": [
    "%load_ext autoreload\n",
    "%autoreload 2\n",
    "import sys\n",
    "# map folder using sys\n",
    "sys.path.append('../')\n",
    "import pandas as pd\n",
    "from galgoz import DATA_FOLDER\n",
    "from galgoz import Galgoz\n"
   ]
  },
  {
   "cell_type": "code",
   "execution_count": null,
   "metadata": {},
   "outputs": [],
   "source": [
    "filename = DATA_FOLDER / \"GBP_JPY_H1.pkl\"\n",
    "data = pd.read_pickle(filename)\n",
    "data.head()"
   ]
  },
  {
   "cell_type": "code",
   "execution_count": null,
   "metadata": {},
   "outputs": [],
   "source": [
    "gz = Galgoz()\n",
    "\n",
    "# Use the last 200 candles\n",
    "df_plot = data.iloc[-1000:]\n",
    "fig = gz.plot_candles(df_plot)\n",
    "fig.show()"
   ]
  },
  {
   "cell_type": "code",
   "execution_count": null,
   "metadata": {},
   "outputs": [],
   "source": [
    "from galgoz.plotting.candles import plot\n",
    "fig = plot(df_plot, instrument=\"GBP/JPY\")\n",
    "fig.show()"
   ]
  }
 ],
 "metadata": {
  "kernelspec": {
   "display_name": "galgoz",
   "language": "python",
   "name": "galgoz"
  },
  "language_info": {
   "codemirror_mode": {
    "name": "ipython",
    "version": 3
   },
   "file_extension": ".py",
   "mimetype": "text/x-python",
   "name": "python",
   "nbconvert_exporter": "python",
   "pygments_lexer": "ipython3",
   "version": "3.11.9"
  }
 },
 "nbformat": 4,
 "nbformat_minor": 2
}
