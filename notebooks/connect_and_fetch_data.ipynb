{
 "cells": [
  {
   "cell_type": "code",
   "execution_count": 12,
   "metadata": {},
   "outputs": [],
   "source": [
    "import sys\n",
    "# map folder using sys\n",
    "sys.path.append('../')\n",
    "from galgoz import Galgoz\n",
    "import pandas as pd"
   ]
  },
  {
   "cell_type": "code",
   "execution_count": 13,
   "metadata": {},
   "outputs": [],
   "source": [
    "gz = Galgoz()\n",
    "instruments = gz.fetch_instruments()\n",
    "data = gz.candles_df()\n"
   ]
  },
  {
   "cell_type": "markdown",
   "metadata": {},
   "source": [
    "### Display metadata for the first instrument"
   ]
  },
  {
   "cell_type": "code",
   "execution_count": 14,
   "metadata": {},
   "outputs": [
    {
     "name": "stdout",
     "output_type": "stream",
     "text": [
      "Total number instruments available: 123\n"
     ]
    },
    {
     "data": {
      "text/plain": [
       "{'name': 'XAG_SGD',\n",
       " 'type': 'METAL',\n",
       " 'displayName': 'Silver/SGD',\n",
       " 'pipLocation': -4,\n",
       " 'displayPrecision': 5,\n",
       " 'tradeUnitsPrecision': 0,\n",
       " 'minimumTradeSize': '1',\n",
       " 'maximumTrailingStopDistance': '1.00000',\n",
       " 'minimumTrailingStopDistance': '0.00050',\n",
       " 'maximumPositionSize': '0',\n",
       " 'maximumOrderUnits': '500000',\n",
       " 'marginRate': '0.1',\n",
       " 'guaranteedStopLossOrderMode': 'DISABLED',\n",
       " 'tags': [{'type': 'ASSET_CLASS', 'name': 'COMMODITY'},\n",
       "  {'type': 'KID_ASSET_CLASS', 'name': 'METAL'},\n",
       "  {'type': 'BRAIN_ASSET_CLASS', 'name': 'METAL'}],\n",
       " 'financing': {'longRate': '-0.0588',\n",
       "  'shortRate': '0.0051',\n",
       "  'financingDaysOfWeek': [{'dayOfWeek': 'MONDAY', 'daysCharged': 1},\n",
       "   {'dayOfWeek': 'TUESDAY', 'daysCharged': 1},\n",
       "   {'dayOfWeek': 'WEDNESDAY', 'daysCharged': 1},\n",
       "   {'dayOfWeek': 'THURSDAY', 'daysCharged': 1},\n",
       "   {'dayOfWeek': 'FRIDAY', 'daysCharged': 1},\n",
       "   {'dayOfWeek': 'SATURDAY', 'daysCharged': 0},\n",
       "   {'dayOfWeek': 'SUNDAY', 'daysCharged': 0}]}}"
      ]
     },
     "execution_count": 14,
     "metadata": {},
     "output_type": "execute_result"
    }
   ],
   "source": [
    "print(f\"Total number instruments available: {len(instruments)}\")\n",
    "instruments[0]\n"
   ]
  },
  {
   "cell_type": "code",
   "execution_count": 15,
   "metadata": {},
   "outputs": [],
   "source": [
    "### Display list of all available instruments in the account"
   ]
  },
  {
   "cell_type": "code",
   "execution_count": 16,
   "metadata": {},
   "outputs": [
    {
     "data": {
      "text/plain": [
       "['Silver/SGD',\n",
       " 'AUD/NZD',\n",
       " 'Brent Crude Oil',\n",
       " 'NZD/USD',\n",
       " 'Corn',\n",
       " 'Netherlands 25',\n",
       " 'CAD/JPY',\n",
       " 'USD/ZAR',\n",
       " 'Singapore 30',\n",
       " 'EUR/USD',\n",
       " 'Soybeans',\n",
       " 'Gold/EUR',\n",
       " 'Platinum',\n",
       " 'USD/DKK',\n",
       " 'Australia 200',\n",
       " 'Gold/Silver',\n",
       " 'Gold/GBP',\n",
       " 'US Nas 100',\n",
       " 'GBP/AUD',\n",
       " 'USD/PLN',\n",
       " 'China H Shares',\n",
       " 'Switzerland 20',\n",
       " 'CAD/HKD',\n",
       " 'Silver/CHF',\n",
       " 'USD/CHF',\n",
       " 'Silver/HKD',\n",
       " 'AUD/HKD',\n",
       " 'Spain 35',\n",
       " 'NZD/CHF',\n",
       " 'AUD/CHF',\n",
       " 'GBP/CHF',\n",
       " 'USD/THB',\n",
       " 'Gold/JPY',\n",
       " 'Gold/HKD',\n",
       " 'EUR/HKD',\n",
       " 'CHF/JPY',\n",
       " 'GBP/HKD',\n",
       " 'EUR/NZD',\n",
       " 'Silver/AUD',\n",
       " 'West Texas Oil',\n",
       " 'Silver/NZD',\n",
       " 'AUD/SGD',\n",
       " 'EUR/JPY',\n",
       " 'EUR/TRY',\n",
       " 'USD/JPY',\n",
       " 'SGD/JPY',\n",
       " 'GBP/ZAR',\n",
       " 'Silver/JPY',\n",
       " 'ZAR/JPY',\n",
       " 'NZD/SGD',\n",
       " 'EUR/DKK',\n",
       " 'USD/HUF',\n",
       " 'HKD/JPY',\n",
       " 'Germany 30',\n",
       " 'US Russ 2000',\n",
       " 'Natural Gas',\n",
       " 'Bund',\n",
       " 'GBP/CAD',\n",
       " 'UK 100',\n",
       " 'EUR/HUF',\n",
       " 'USD/SEK',\n",
       " 'GBP/SGD',\n",
       " 'Palladium',\n",
       " 'Gold/CHF',\n",
       " 'Gold/CAD',\n",
       " 'EUR/PLN',\n",
       " 'Sugar',\n",
       " 'AUD/CAD',\n",
       " 'US 5Y T-Note',\n",
       " 'UK 10Y Gilt',\n",
       " 'EUR/CAD',\n",
       " 'USD/MXN',\n",
       " 'GBP/USD',\n",
       " 'CAD/SGD',\n",
       " 'Silver/CAD',\n",
       " 'Japan 225',\n",
       " 'France 40',\n",
       " 'US T-Bond',\n",
       " 'NZD/HKD',\n",
       " 'Silver',\n",
       " 'EUR/CZK',\n",
       " 'EUR/CHF',\n",
       " 'Wheat',\n",
       " 'Gold/AUD',\n",
       " 'USD/CNH',\n",
       " 'SGD/CHF',\n",
       " 'NZD/JPY',\n",
       " 'GBP/PLN',\n",
       " 'NZD/CAD',\n",
       " 'CHF/HKD',\n",
       " 'China A50',\n",
       " 'EUR/GBP',\n",
       " 'USD/CZK',\n",
       " 'US Wall St 30',\n",
       " 'Japan 225 (JPY)',\n",
       " 'EUR/NOK',\n",
       " 'EUR/SEK',\n",
       " 'USD/SGD',\n",
       " 'GBP/NZD',\n",
       " 'Gold',\n",
       " 'GBP/JPY',\n",
       " 'USD/TRY',\n",
       " 'TRY/JPY',\n",
       " 'Gold/NZD',\n",
       " 'Hong Kong 33',\n",
       " 'Silver/GBP',\n",
       " 'EUR/SGD',\n",
       " 'EUR/AUD',\n",
       " 'Gold/SGD',\n",
       " 'USD/CAD',\n",
       " 'US SPX 500',\n",
       " 'US 10Y T-Note',\n",
       " 'Europe 50',\n",
       " 'CAD/CHF',\n",
       " 'USD/NOK',\n",
       " 'US 2Y T-Note',\n",
       " 'Copper',\n",
       " 'AUD/USD',\n",
       " 'Silver/EUR',\n",
       " 'AUD/JPY',\n",
       " 'EUR/ZAR',\n",
       " 'CHF/ZAR',\n",
       " 'USD/HKD']"
      ]
     },
     "execution_count": 16,
     "metadata": {},
     "output_type": "execute_result"
    }
   ],
   "source": [
    "[k[\"displayName\"] for k in instruments]"
   ]
  },
  {
   "cell_type": "markdown",
   "metadata": {},
   "source": [
    "### Fetch candle data as a DateFrame for the default instrument (GBP/JPY)"
   ]
  },
  {
   "cell_type": "code",
   "execution_count": 17,
   "metadata": {},
   "outputs": [
    {
     "data": {
      "text/html": [
       "<div>\n",
       "<style scoped>\n",
       "    .dataframe tbody tr th:only-of-type {\n",
       "        vertical-align: middle;\n",
       "    }\n",
       "\n",
       "    .dataframe tbody tr th {\n",
       "        vertical-align: top;\n",
       "    }\n",
       "\n",
       "    .dataframe thead th {\n",
       "        text-align: right;\n",
       "    }\n",
       "</style>\n",
       "<table border=\"1\" class=\"dataframe\">\n",
       "  <thead>\n",
       "    <tr style=\"text-align: right;\">\n",
       "      <th></th>\n",
       "      <th>time</th>\n",
       "      <th>volume</th>\n",
       "      <th>o</th>\n",
       "      <th>h</th>\n",
       "      <th>l</th>\n",
       "      <th>c</th>\n",
       "    </tr>\n",
       "  </thead>\n",
       "  <tbody>\n",
       "    <tr>\n",
       "      <th>0</th>\n",
       "      <td>2024-12-18T07:00:00.000000000Z</td>\n",
       "      <td>13108</td>\n",
       "      <td>195.195</td>\n",
       "      <td>195.340</td>\n",
       "      <td>194.705</td>\n",
       "      <td>194.915</td>\n",
       "    </tr>\n",
       "    <tr>\n",
       "      <th>1</th>\n",
       "      <td>2024-12-18T08:00:00.000000000Z</td>\n",
       "      <td>14687</td>\n",
       "      <td>194.914</td>\n",
       "      <td>194.944</td>\n",
       "      <td>194.720</td>\n",
       "      <td>194.835</td>\n",
       "    </tr>\n",
       "    <tr>\n",
       "      <th>2</th>\n",
       "      <td>2024-12-18T09:00:00.000000000Z</td>\n",
       "      <td>10217</td>\n",
       "      <td>194.837</td>\n",
       "      <td>195.110</td>\n",
       "      <td>194.806</td>\n",
       "      <td>194.932</td>\n",
       "    </tr>\n",
       "    <tr>\n",
       "      <th>3</th>\n",
       "      <td>2024-12-18T10:00:00.000000000Z</td>\n",
       "      <td>11236</td>\n",
       "      <td>194.930</td>\n",
       "      <td>195.358</td>\n",
       "      <td>194.918</td>\n",
       "      <td>195.312</td>\n",
       "    </tr>\n",
       "    <tr>\n",
       "      <th>4</th>\n",
       "      <td>2024-12-18T11:00:00.000000000Z</td>\n",
       "      <td>10505</td>\n",
       "      <td>195.313</td>\n",
       "      <td>195.446</td>\n",
       "      <td>195.256</td>\n",
       "      <td>195.262</td>\n",
       "    </tr>\n",
       "  </tbody>\n",
       "</table>\n",
       "</div>"
      ],
      "text/plain": [
       "                             time  volume        o        h        l        c\n",
       "0  2024-12-18T07:00:00.000000000Z   13108  195.195  195.340  194.705  194.915\n",
       "1  2024-12-18T08:00:00.000000000Z   14687  194.914  194.944  194.720  194.835\n",
       "2  2024-12-18T09:00:00.000000000Z   10217  194.837  195.110  194.806  194.932\n",
       "3  2024-12-18T10:00:00.000000000Z   11236  194.930  195.358  194.918  195.312\n",
       "4  2024-12-18T11:00:00.000000000Z   10505  195.313  195.446  195.256  195.262"
      ]
     },
     "execution_count": 17,
     "metadata": {},
     "output_type": "execute_result"
    }
   ],
   "source": [
    "data.head()"
   ]
  },
  {
   "cell_type": "code",
   "execution_count": null,
   "metadata": {},
   "outputs": [],
   "source": []
  }
 ],
 "metadata": {
  "kernelspec": {
   "display_name": "Python 3",
   "language": "python",
   "name": "python3"
  },
  "language_info": {
   "codemirror_mode": {
    "name": "ipython",
    "version": 3
   },
   "file_extension": ".py",
   "mimetype": "text/x-python",
   "name": "python",
   "nbconvert_exporter": "python",
   "pygments_lexer": "ipython3",
   "version": "3.11.9"
  }
 },
 "nbformat": 4,
 "nbformat_minor": 2
}
