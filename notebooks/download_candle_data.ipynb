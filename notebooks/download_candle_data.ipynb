{
 "cells": [
  {
   "cell_type": "code",
   "execution_count": 1,
   "metadata": {},
   "outputs": [],
   "source": [
    "%load_ext autoreload\n",
    "%autoreload 2\n",
    "import sys\n",
    "# map folder using sys\n",
    "sys.path.append('../')\n",
    "from galgoz import Galgoz"
   ]
  },
  {
   "cell_type": "code",
   "execution_count": 2,
   "metadata": {},
   "outputs": [
    {
     "name": "stdout",
     "output_type": "stream",
     "text": [
      "Fetching candles from 2005-01-01 00:00:00 to 2018-09-10 00:00:00\n",
      "Total candles fetched: 3569\n",
      "Fetching candles from 2018-09-10 00:00:00 to 2025-01-21 23:59:00\n",
      "Total candles fetched: 1648\n",
      "Data saved to /Users/gaz/galgoz/data/US30_USD_D.pkl\n"
     ]
    }
   ],
   "source": [
    "gz = Galgoz(instrument='US30_USD')\n",
    "\n",
    "date_from = \"2005-01-01T00:00:00Z\"\n",
    "date_to = \"2025-01-21T23:59:00Z\"\n",
    "gz.store_data(granularity=\"D\", date_from=date_from, date_to=date_to, price=\"M\")"
   ]
  },
  {
   "cell_type": "code",
   "execution_count": 3,
   "metadata": {},
   "outputs": [
    {
     "data": {
      "text/html": [
       "<div>\n",
       "<style scoped>\n",
       "    .dataframe tbody tr th:only-of-type {\n",
       "        vertical-align: middle;\n",
       "    }\n",
       "\n",
       "    .dataframe tbody tr th {\n",
       "        vertical-align: top;\n",
       "    }\n",
       "\n",
       "    .dataframe thead th {\n",
       "        text-align: right;\n",
       "    }\n",
       "</style>\n",
       "<table border=\"1\" class=\"dataframe\">\n",
       "  <thead>\n",
       "    <tr style=\"text-align: right;\">\n",
       "      <th></th>\n",
       "      <th>complete</th>\n",
       "      <th>volume</th>\n",
       "      <th>time</th>\n",
       "      <th>mid_o</th>\n",
       "      <th>mid_h</th>\n",
       "      <th>mid_l</th>\n",
       "      <th>mid_c</th>\n",
       "    </tr>\n",
       "  </thead>\n",
       "  <tbody>\n",
       "    <tr>\n",
       "      <th>0</th>\n",
       "      <td>1</td>\n",
       "      <td>4.0</td>\n",
       "      <td>2005-01-02T18:00:00.000000000Z</td>\n",
       "      <td>196.78</td>\n",
       "      <td>196.82</td>\n",
       "      <td>196.75</td>\n",
       "      <td>196.79</td>\n",
       "    </tr>\n",
       "    <tr>\n",
       "      <th>1</th>\n",
       "      <td>1</td>\n",
       "      <td>54.0</td>\n",
       "      <td>2005-01-02T19:00:00.000000000Z</td>\n",
       "      <td>196.91</td>\n",
       "      <td>197.21</td>\n",
       "      <td>196.88</td>\n",
       "      <td>197.13</td>\n",
       "    </tr>\n",
       "    <tr>\n",
       "      <th>2</th>\n",
       "      <td>1</td>\n",
       "      <td>127.0</td>\n",
       "      <td>2005-01-02T20:00:00.000000000Z</td>\n",
       "      <td>197.12</td>\n",
       "      <td>197.25</td>\n",
       "      <td>197.03</td>\n",
       "      <td>197.18</td>\n",
       "    </tr>\n",
       "    <tr>\n",
       "      <th>3</th>\n",
       "      <td>1</td>\n",
       "      <td>199.0</td>\n",
       "      <td>2005-01-02T21:00:00.000000000Z</td>\n",
       "      <td>197.18</td>\n",
       "      <td>197.30</td>\n",
       "      <td>197.08</td>\n",
       "      <td>197.15</td>\n",
       "    </tr>\n",
       "    <tr>\n",
       "      <th>4</th>\n",
       "      <td>1</td>\n",
       "      <td>144.0</td>\n",
       "      <td>2005-01-02T22:00:00.000000000Z</td>\n",
       "      <td>197.14</td>\n",
       "      <td>197.15</td>\n",
       "      <td>196.92</td>\n",
       "      <td>196.95</td>\n",
       "    </tr>\n",
       "  </tbody>\n",
       "</table>\n",
       "</div>"
      ],
      "text/plain": [
       "   complete  volume                            time   mid_o   mid_h   mid_l  \\\n",
       "0         1     4.0  2005-01-02T18:00:00.000000000Z  196.78  196.82  196.75   \n",
       "1         1    54.0  2005-01-02T19:00:00.000000000Z  196.91  197.21  196.88   \n",
       "2         1   127.0  2005-01-02T20:00:00.000000000Z  197.12  197.25  197.03   \n",
       "3         1   199.0  2005-01-02T21:00:00.000000000Z  197.18  197.30  197.08   \n",
       "4         1   144.0  2005-01-02T22:00:00.000000000Z  197.14  197.15  196.92   \n",
       "\n",
       "    mid_c  \n",
       "0  196.79  \n",
       "1  197.13  \n",
       "2  197.18  \n",
       "3  197.15  \n",
       "4  196.95  "
      ]
     },
     "execution_count": 3,
     "metadata": {},
     "output_type": "execute_result"
    }
   ],
   "source": [
    "import pandas as pd\n",
    "from galgoz.galgoz import DATA_FOLDER\n",
    "filename = DATA_FOLDER / \"GBP_JPY_H1.pkl\"\n",
    "df = pd.read_pickle(filename)\n",
    "df.head()"
   ]
  }
 ],
 "metadata": {
  "kernelspec": {
   "display_name": "galgoz",
   "language": "python",
   "name": "galgoz"
  },
  "language_info": {
   "codemirror_mode": {
    "name": "ipython",
    "version": 3
   },
   "file_extension": ".py",
   "mimetype": "text/x-python",
   "name": "python",
   "nbconvert_exporter": "python",
   "pygments_lexer": "ipython3",
   "version": "3.11.9"
  }
 },
 "nbformat": 4,
 "nbformat_minor": 2
}
