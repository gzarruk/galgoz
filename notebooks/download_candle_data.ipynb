{
 "cells": [
  {
   "cell_type": "code",
   "execution_count": 50,
   "metadata": {},
   "outputs": [
    {
     "name": "stdout",
     "output_type": "stream",
     "text": [
      "The autoreload extension is already loaded. To reload it, use:\n",
      "  %reload_ext autoreload\n"
     ]
    }
   ],
   "source": [
    "%load_ext autoreload\n",
    "%autoreload 2\n",
    "import sys\n",
    "# map folder using sys\n",
    "sys.path.append('../')\n",
    "from galgoz import Galgoz"
   ]
  },
  {
   "cell_type": "markdown",
   "metadata": {},
   "source": [
    "### Initialize and fetch 6000 candles"
   ]
  },
  {
   "cell_type": "code",
   "execution_count": 59,
   "metadata": {},
   "outputs": [
    {
     "data": {
      "text/plain": [
       "[{'complete': True,\n",
       "  'volume': 11214,\n",
       "  'time': '2024-12-27T12:00:00.000000000Z',\n",
       "  'mid': {'o': '197.886', 'h': '198.146', 'l': '197.831', 'c': '198.096'}},\n",
       " {'complete': True,\n",
       "  'volume': 12424,\n",
       "  'time': '2024-12-27T13:00:00.000000000Z',\n",
       "  'mid': {'o': '198.092', 'h': '198.407', 'l': '198.046', 'c': '198.405'}},\n",
       " {'complete': True,\n",
       "  'volume': 15587,\n",
       "  'time': '2024-12-27T14:00:00.000000000Z',\n",
       "  'mid': {'o': '198.409', 'h': '198.508', 'l': '198.096', 'c': '198.374'}},\n",
       " {'complete': True,\n",
       "  'volume': 21613,\n",
       "  'time': '2024-12-27T15:00:00.000000000Z',\n",
       "  'mid': {'o': '198.382', 'h': '198.509', 'l': '198.050', 'c': '198.172'}},\n",
       " {'complete': True,\n",
       "  'volume': 17683,\n",
       "  'time': '2024-12-27T16:00:00.000000000Z',\n",
       "  'mid': {'o': '198.168', 'h': '198.406', 'l': '198.070', 'c': '198.270'}},\n",
       " {'complete': True,\n",
       "  'volume': 14708,\n",
       "  'time': '2024-12-27T17:00:00.000000000Z',\n",
       "  'mid': {'o': '198.268', 'h': '198.274', 'l': '198.018', 'c': '198.234'}},\n",
       " {'complete': True,\n",
       "  'volume': 12225,\n",
       "  'time': '2024-12-27T18:00:00.000000000Z',\n",
       "  'mid': {'o': '198.234', 'h': '198.392', 'l': '198.197', 'c': '198.365'}},\n",
       " {'complete': True,\n",
       "  'volume': 11845,\n",
       "  'time': '2024-12-27T19:00:00.000000000Z',\n",
       "  'mid': {'o': '198.360', 'h': '198.714', 'l': '198.314', 'c': '198.714'}},\n",
       " {'complete': True,\n",
       "  'volume': 9335,\n",
       "  'time': '2024-12-27T20:00:00.000000000Z',\n",
       "  'mid': {'o': '198.714', 'h': '198.718', 'l': '198.528', 'c': '198.650'}},\n",
       " {'complete': True,\n",
       "  'volume': 4605,\n",
       "  'time': '2024-12-27T21:00:00.000000000Z',\n",
       "  'mid': {'o': '198.649', 'h': '198.661', 'l': '198.408', 'c': '198.562'}}]"
      ]
     },
     "execution_count": 59,
     "metadata": {},
     "output_type": "execute_result"
    }
   ],
   "source": [
    "from datetime import datetime\n",
    "\n",
    "gz = Galgoz()\n",
    "\n",
    "date_from = \"2021-01-03T00:00:00Z\"\n",
    "date_to = \"2021-01-04T05:00:00Z\"\n",
    "\n",
    "res1 = gz.fetch_candles(price=\"M\", count=10)\n",
    "res1"
   ]
  },
  {
   "cell_type": "code",
   "execution_count": 52,
   "metadata": {},
   "outputs": [
    {
     "data": {
      "text/plain": [
       "[{'complete': True,\n",
       "  'volume': 262,\n",
       "  'time': '2021-01-03T22:00:00.000000000Z',\n",
       "  'mid': {'o': '140.799', 'h': '141.103', 'l': '140.768', 'c': '141.016'}},\n",
       " {'complete': True,\n",
       "  'volume': 1494,\n",
       "  'time': '2021-01-03T23:00:00.000000000Z',\n",
       "  'mid': {'o': '141.023', 'h': '141.322', 'l': '140.998', 'c': '141.252'}},\n",
       " {'complete': True,\n",
       "  'volume': 3152,\n",
       "  'time': '2021-01-04T00:00:00.000000000Z',\n",
       "  'mid': {'o': '141.254', 'h': '141.284', 'l': '140.789', 'c': '140.918'}},\n",
       " {'complete': True,\n",
       "  'volume': 2755,\n",
       "  'time': '2021-01-04T01:00:00.000000000Z',\n",
       "  'mid': {'o': '140.916', 'h': '141.108', 'l': '140.910', 'c': '141.008'}},\n",
       " {'complete': True,\n",
       "  'volume': 2061,\n",
       "  'time': '2021-01-04T02:00:00.000000000Z',\n",
       "  'mid': {'o': '141.006', 'h': '141.090', 'l': '140.964', 'c': '141.010'}},\n",
       " {'complete': True,\n",
       "  'volume': 1172,\n",
       "  'time': '2021-01-04T03:00:00.000000000Z',\n",
       "  'mid': {'o': '141.012', 'h': '141.052', 'l': '140.970', 'c': '140.995'}},\n",
       " {'complete': True,\n",
       "  'volume': 1197,\n",
       "  'time': '2021-01-04T04:00:00.000000000Z',\n",
       "  'mid': {'o': '140.993', 'h': '141.052', 'l': '140.894', 'c': '140.910'}}]"
      ]
     },
     "execution_count": 52,
     "metadata": {},
     "output_type": "execute_result"
    }
   ],
   "source": [
    "res1"
   ]
  },
  {
   "cell_type": "code",
   "execution_count": 53,
   "metadata": {},
   "outputs": [
    {
     "data": {
      "text/plain": [
       "[{'complete': True,\n",
       "  'volume': 1265,\n",
       "  'time': '2021-01-04T05:00:00.000000000Z',\n",
       "  'mid': {'o': '140.913', 'h': '140.971', 'l': '140.856', 'c': '140.952'}},\n",
       " {'complete': True,\n",
       "  'volume': 1796,\n",
       "  'time': '2021-01-04T06:00:00.000000000Z',\n",
       "  'mid': {'o': '140.954', 'h': '141.022', 'l': '140.881', 'c': '140.949'}},\n",
       " {'complete': True,\n",
       "  'volume': 3072,\n",
       "  'time': '2021-01-04T07:00:00.000000000Z',\n",
       "  'mid': {'o': '140.947', 'h': '141.072', 'l': '140.753', 'c': '140.867'}},\n",
       " {'complete': True,\n",
       "  'volume': 4680,\n",
       "  'time': '2021-01-04T08:00:00.000000000Z',\n",
       "  'mid': {'o': '140.864', 'h': '140.932', 'l': '140.586', 'c': '140.752'}},\n",
       " {'complete': True,\n",
       "  'volume': 3712,\n",
       "  'time': '2021-01-04T09:00:00.000000000Z',\n",
       "  'mid': {'o': '140.750', 'h': '140.793', 'l': '140.421', 'c': '140.486'}}]"
      ]
     },
     "execution_count": 53,
     "metadata": {},
     "output_type": "execute_result"
    }
   ],
   "source": [
    "res2"
   ]
  },
  {
   "cell_type": "code",
   "execution_count": 54,
   "metadata": {},
   "outputs": [],
   "source": [
    "res1.append(res2)\n"
   ]
  },
  {
   "cell_type": "code",
   "execution_count": 55,
   "metadata": {},
   "outputs": [
    {
     "data": {
      "text/plain": [
       "[{'complete': True,\n",
       "  'volume': 262,\n",
       "  'time': '2021-01-03T22:00:00.000000000Z',\n",
       "  'mid': {'o': '140.799', 'h': '141.103', 'l': '140.768', 'c': '141.016'}},\n",
       " {'complete': True,\n",
       "  'volume': 1494,\n",
       "  'time': '2021-01-03T23:00:00.000000000Z',\n",
       "  'mid': {'o': '141.023', 'h': '141.322', 'l': '140.998', 'c': '141.252'}},\n",
       " {'complete': True,\n",
       "  'volume': 3152,\n",
       "  'time': '2021-01-04T00:00:00.000000000Z',\n",
       "  'mid': {'o': '141.254', 'h': '141.284', 'l': '140.789', 'c': '140.918'}},\n",
       " {'complete': True,\n",
       "  'volume': 2755,\n",
       "  'time': '2021-01-04T01:00:00.000000000Z',\n",
       "  'mid': {'o': '140.916', 'h': '141.108', 'l': '140.910', 'c': '141.008'}},\n",
       " {'complete': True,\n",
       "  'volume': 2061,\n",
       "  'time': '2021-01-04T02:00:00.000000000Z',\n",
       "  'mid': {'o': '141.006', 'h': '141.090', 'l': '140.964', 'c': '141.010'}},\n",
       " {'complete': True,\n",
       "  'volume': 1172,\n",
       "  'time': '2021-01-04T03:00:00.000000000Z',\n",
       "  'mid': {'o': '141.012', 'h': '141.052', 'l': '140.970', 'c': '140.995'}},\n",
       " {'complete': True,\n",
       "  'volume': 1197,\n",
       "  'time': '2021-01-04T04:00:00.000000000Z',\n",
       "  'mid': {'o': '140.993', 'h': '141.052', 'l': '140.894', 'c': '140.910'}},\n",
       " [{'complete': True,\n",
       "   'volume': 1265,\n",
       "   'time': '2021-01-04T05:00:00.000000000Z',\n",
       "   'mid': {'o': '140.913', 'h': '140.971', 'l': '140.856', 'c': '140.952'}},\n",
       "  {'complete': True,\n",
       "   'volume': 1796,\n",
       "   'time': '2021-01-04T06:00:00.000000000Z',\n",
       "   'mid': {'o': '140.954', 'h': '141.022', 'l': '140.881', 'c': '140.949'}},\n",
       "  {'complete': True,\n",
       "   'volume': 3072,\n",
       "   'time': '2021-01-04T07:00:00.000000000Z',\n",
       "   'mid': {'o': '140.947', 'h': '141.072', 'l': '140.753', 'c': '140.867'}},\n",
       "  {'complete': True,\n",
       "   'volume': 4680,\n",
       "   'time': '2021-01-04T08:00:00.000000000Z',\n",
       "   'mid': {'o': '140.864', 'h': '140.932', 'l': '140.586', 'c': '140.752'}},\n",
       "  {'complete': True,\n",
       "   'volume': 3712,\n",
       "   'time': '2021-01-04T09:00:00.000000000Z',\n",
       "   'mid': {'o': '140.750', 'h': '140.793', 'l': '140.421', 'c': '140.486'}}]]"
      ]
     },
     "execution_count": 55,
     "metadata": {},
     "output_type": "execute_result"
    }
   ],
   "source": [
    "res1"
   ]
  },
  {
   "cell_type": "code",
   "execution_count": null,
   "metadata": {},
   "outputs": [],
   "source": []
  }
 ],
 "metadata": {
  "kernelspec": {
   "display_name": ".venv",
   "language": "python",
   "name": "python3"
  },
  "language_info": {
   "codemirror_mode": {
    "name": "ipython",
    "version": 3
   },
   "file_extension": ".py",
   "mimetype": "text/x-python",
   "name": "python",
   "nbconvert_exporter": "python",
   "pygments_lexer": "ipython3",
   "version": "3.11.9"
  }
 },
 "nbformat": 4,
 "nbformat_minor": 2
}
