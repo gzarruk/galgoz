{
 "cells": [
  {
   "cell_type": "code",
   "execution_count": 1,
   "metadata": {},
   "outputs": [],
   "source": [
    "%load_ext autoreload\n",
    "%autoreload 2\n",
    "import sys\n",
    "# map folder using sys\n",
    "sys.path.append('../')\n",
    "from galgoz import Galgoz"
   ]
  },
  {
   "cell_type": "code",
   "execution_count": 2,
   "metadata": {},
   "outputs": [
    {
     "name": "stdout",
     "output_type": "stream",
     "text": [
      "Fetching candles from 2005-01-01 00:00:00 to 2018-09-10 00:00:00\n",
      "Total candles fetched: 4237\n",
      "Fetching candles from 2018-09-10 00:00:00 to 2024-12-28 00:00:00\n",
      "Total candles fetched: 1641\n",
      "Data saved to /Users/gaz/galgoz/data/GBP_JPY_D.pkl\n"
     ]
    }
   ],
   "source": [
    "gz = Galgoz()\n",
    "\n",
    "date_from = \"2005-01-01T00:00:00Z\"\n",
    "date_to = \"2024-12-28T00:00:00Z\"\n",
    "gz.store_data(granularity=\"D\", date_from=date_from, date_to=date_to, price=\"M\")"
   ]
  },
  {
   "cell_type": "code",
   "execution_count": 3,
   "metadata": {},
   "outputs": [
    {
     "data": {
      "text/html": [
       "<div>\n",
       "<style scoped>\n",
       "    .dataframe tbody tr th:only-of-type {\n",
       "        vertical-align: middle;\n",
       "    }\n",
       "\n",
       "    .dataframe tbody tr th {\n",
       "        vertical-align: top;\n",
       "    }\n",
       "\n",
       "    .dataframe thead th {\n",
       "        text-align: right;\n",
       "    }\n",
       "</style>\n",
       "<table border=\"1\" class=\"dataframe\">\n",
       "  <thead>\n",
       "    <tr style=\"text-align: right;\">\n",
       "      <th></th>\n",
       "      <th>complete</th>\n",
       "      <th>volume</th>\n",
       "      <th>time</th>\n",
       "      <th>mid_o</th>\n",
       "      <th>mid_h</th>\n",
       "      <th>mid_l</th>\n",
       "      <th>mid_c</th>\n",
       "    </tr>\n",
       "  </thead>\n",
       "  <tbody>\n",
       "    <tr>\n",
       "      <th>0</th>\n",
       "      <td>True</td>\n",
       "      <td>4</td>\n",
       "      <td>2005-01-02T18:00:00.000000000Z</td>\n",
       "      <td>196.780</td>\n",
       "      <td>196.820</td>\n",
       "      <td>196.750</td>\n",
       "      <td>196.790</td>\n",
       "    </tr>\n",
       "    <tr>\n",
       "      <th>1</th>\n",
       "      <td>True</td>\n",
       "      <td>54</td>\n",
       "      <td>2005-01-02T19:00:00.000000000Z</td>\n",
       "      <td>196.910</td>\n",
       "      <td>197.210</td>\n",
       "      <td>196.880</td>\n",
       "      <td>197.130</td>\n",
       "    </tr>\n",
       "    <tr>\n",
       "      <th>2</th>\n",
       "      <td>True</td>\n",
       "      <td>127</td>\n",
       "      <td>2005-01-02T20:00:00.000000000Z</td>\n",
       "      <td>197.120</td>\n",
       "      <td>197.250</td>\n",
       "      <td>197.030</td>\n",
       "      <td>197.180</td>\n",
       "    </tr>\n",
       "    <tr>\n",
       "      <th>3</th>\n",
       "      <td>True</td>\n",
       "      <td>199</td>\n",
       "      <td>2005-01-02T21:00:00.000000000Z</td>\n",
       "      <td>197.180</td>\n",
       "      <td>197.300</td>\n",
       "      <td>197.080</td>\n",
       "      <td>197.150</td>\n",
       "    </tr>\n",
       "    <tr>\n",
       "      <th>4</th>\n",
       "      <td>True</td>\n",
       "      <td>144</td>\n",
       "      <td>2005-01-02T22:00:00.000000000Z</td>\n",
       "      <td>197.140</td>\n",
       "      <td>197.150</td>\n",
       "      <td>196.920</td>\n",
       "      <td>196.950</td>\n",
       "    </tr>\n",
       "  </tbody>\n",
       "</table>\n",
       "</div>"
      ],
      "text/plain": [
       "   complete  volume                            time    mid_o    mid_h  \\\n",
       "0      True       4  2005-01-02T18:00:00.000000000Z  196.780  196.820   \n",
       "1      True      54  2005-01-02T19:00:00.000000000Z  196.910  197.210   \n",
       "2      True     127  2005-01-02T20:00:00.000000000Z  197.120  197.250   \n",
       "3      True     199  2005-01-02T21:00:00.000000000Z  197.180  197.300   \n",
       "4      True     144  2005-01-02T22:00:00.000000000Z  197.140  197.150   \n",
       "\n",
       "     mid_l    mid_c  \n",
       "0  196.750  196.790  \n",
       "1  196.880  197.130  \n",
       "2  197.030  197.180  \n",
       "3  197.080  197.150  \n",
       "4  196.920  196.950  "
      ]
     },
     "execution_count": 3,
     "metadata": {},
     "output_type": "execute_result"
    }
   ],
   "source": [
    "import pandas as pd\n",
    "from galgoz.galgoz import DATA_FOLDER\n",
    "filename = DATA_FOLDER / \"GBP_JPY_H1.pkl\"\n",
    "df = pd.read_pickle(filename)\n",
    "df.head()"
   ]
  }
 ],
 "metadata": {
  "kernelspec": {
   "display_name": ".venv",
   "language": "python",
   "name": "python3"
  },
  "language_info": {
   "codemirror_mode": {
    "name": "ipython",
    "version": 3
   },
   "file_extension": ".py",
   "mimetype": "text/x-python",
   "name": "python",
   "nbconvert_exporter": "python",
   "pygments_lexer": "ipython3",
   "version": "3.11.9"
  }
 },
 "nbformat": 4,
 "nbformat_minor": 2
}
