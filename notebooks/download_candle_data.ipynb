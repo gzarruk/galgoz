{
 "cells": [
  {
   "cell_type": "code",
   "execution_count": 7,
   "metadata": {},
   "outputs": [
    {
     "name": "stdout",
     "output_type": "stream",
     "text": [
      "The autoreload extension is already loaded. To reload it, use:\n",
      "  %reload_ext autoreload\n"
     ]
    }
   ],
   "source": [
    "%load_ext autoreload\n",
    "%autoreload 2\n",
    "import sys\n",
    "# map folder using sys\n",
    "sys.path.append('../')\n",
    "from galgoz import Galgoz\n",
    "import pandas as pd\n",
    "from galgoz.galgoz import DATA_FOLDER"
   ]
  },
  {
   "cell_type": "code",
   "execution_count": 8,
   "metadata": {},
   "outputs": [
    {
     "name": "stdout",
     "output_type": "stream",
     "text": [
      "Fetching candles from 2005-01-01 00:00:00 to 2007-04-14 08:00:00\n",
      "Total candles fetched: 3780\n",
      "Fetching candles from 2007-04-14 08:00:00 to 2009-07-25 16:00:00\n",
      "Total candles fetched: 3750\n",
      "Fetching candles from 2009-07-25 16:00:00 to 2011-11-06 00:00:00\n",
      "Total candles fetched: 4167\n",
      "Fetching candles from 2011-11-06 00:00:00 to 2014-02-16 08:00:00\n",
      "Total candles fetched: 3673\n",
      "Fetching candles from 2014-02-16 08:00:00 to 2016-05-29 16:00:00\n",
      "Total candles fetched: 3547\n",
      "Fetching candles from 2016-05-29 16:00:00 to 2018-09-10 00:00:00\n",
      "Total candles fetched: 3549\n",
      "Fetching candles from 2018-09-10 00:00:00 to 2020-12-21 08:00:00\n",
      "Total candles fetched: 3555\n",
      "Fetching candles from 2020-12-21 08:00:00 to 2023-04-03 16:00:00\n",
      "Total candles fetched: 3555\n",
      "Fetching candles from 2023-04-03 16:00:00 to 2025-01-17 23:59:00\n",
      "Total candles fetched: 2792\n",
      "Data saved to /Users/gaz/galgoz/data/GBP_JPY_H4.pkl\n"
     ]
    }
   ],
   "source": [
    "instrument=\"GBP_JPY\"\n",
    "granularity=\"H4\"\n",
    "gz = Galgoz(instrument=instrument)\n",
    "\n",
    "date_from = \"2005-01-01T00:00:00Z\"\n",
    "date_to = \"2025-01-17T23:59:00Z\"\n",
    "gz.store_data(granularity=granularity, date_from=date_from, date_to=date_to, price=\"M\")"
   ]
  },
  {
   "cell_type": "code",
   "execution_count": null,
   "metadata": {},
   "outputs": [
    {
     "data": {
      "text/html": [
       "<div>\n",
       "<style scoped>\n",
       "    .dataframe tbody tr th:only-of-type {\n",
       "        vertical-align: middle;\n",
       "    }\n",
       "\n",
       "    .dataframe tbody tr th {\n",
       "        vertical-align: top;\n",
       "    }\n",
       "\n",
       "    .dataframe thead th {\n",
       "        text-align: right;\n",
       "    }\n",
       "</style>\n",
       "<table border=\"1\" class=\"dataframe\">\n",
       "  <thead>\n",
       "    <tr style=\"text-align: right;\">\n",
       "      <th></th>\n",
       "      <th>complete</th>\n",
       "      <th>volume</th>\n",
       "      <th>time</th>\n",
       "      <th>mid_o</th>\n",
       "      <th>mid_h</th>\n",
       "      <th>mid_l</th>\n",
       "      <th>mid_c</th>\n",
       "    </tr>\n",
       "  </thead>\n",
       "  <tbody>\n",
       "    <tr>\n",
       "      <th>0</th>\n",
       "      <td>1</td>\n",
       "      <td>384.0</td>\n",
       "      <td>2005-01-02T18:00:00.000000000Z</td>\n",
       "      <td>196.78</td>\n",
       "      <td>197.30</td>\n",
       "      <td>196.75</td>\n",
       "      <td>197.15</td>\n",
       "    </tr>\n",
       "    <tr>\n",
       "      <th>1</th>\n",
       "      <td>1</td>\n",
       "      <td>2080.0</td>\n",
       "      <td>2005-01-02T22:00:00.000000000Z</td>\n",
       "      <td>197.14</td>\n",
       "      <td>197.15</td>\n",
       "      <td>196.19</td>\n",
       "      <td>196.20</td>\n",
       "    </tr>\n",
       "    <tr>\n",
       "      <th>2</th>\n",
       "      <td>1</td>\n",
       "      <td>4562.0</td>\n",
       "      <td>2005-01-03T02:00:00.000000000Z</td>\n",
       "      <td>196.20</td>\n",
       "      <td>196.64</td>\n",
       "      <td>195.53</td>\n",
       "      <td>196.29</td>\n",
       "    </tr>\n",
       "    <tr>\n",
       "      <th>3</th>\n",
       "      <td>1</td>\n",
       "      <td>5827.0</td>\n",
       "      <td>2005-01-03T06:00:00.000000000Z</td>\n",
       "      <td>196.31</td>\n",
       "      <td>196.68</td>\n",
       "      <td>195.93</td>\n",
       "      <td>196.49</td>\n",
       "    </tr>\n",
       "    <tr>\n",
       "      <th>4</th>\n",
       "      <td>1</td>\n",
       "      <td>5689.0</td>\n",
       "      <td>2005-01-03T10:00:00.000000000Z</td>\n",
       "      <td>196.48</td>\n",
       "      <td>196.49</td>\n",
       "      <td>195.72</td>\n",
       "      <td>195.91</td>\n",
       "    </tr>\n",
       "  </tbody>\n",
       "</table>\n",
       "</div>"
      ],
      "text/plain": [
       "   complete  volume                            time   mid_o   mid_h   mid_l  \\\n",
       "0         1   384.0  2005-01-02T18:00:00.000000000Z  196.78  197.30  196.75   \n",
       "1         1  2080.0  2005-01-02T22:00:00.000000000Z  197.14  197.15  196.19   \n",
       "2         1  4562.0  2005-01-03T02:00:00.000000000Z  196.20  196.64  195.53   \n",
       "3         1  5827.0  2005-01-03T06:00:00.000000000Z  196.31  196.68  195.93   \n",
       "4         1  5689.0  2005-01-03T10:00:00.000000000Z  196.48  196.49  195.72   \n",
       "\n",
       "    mid_c  \n",
       "0  197.15  \n",
       "1  196.20  \n",
       "2  196.29  \n",
       "3  196.49  \n",
       "4  195.91  "
      ]
     },
     "execution_count": 10,
     "metadata": {},
     "output_type": "execute_result"
    }
   ],
   "source": [
    "filename = DATA_FOLDER / f\"{instrument}_{granularity}.pkl\"\n",
    "df = pd.read_pickle(filename)\n",
    "df.head()"
   ]
  }
 ],
 "metadata": {
  "kernelspec": {
   "display_name": ".venv",
   "language": "python",
   "name": "python3"
  },
  "language_info": {
   "codemirror_mode": {
    "name": "ipython",
    "version": 3
   },
   "file_extension": ".py",
   "mimetype": "text/x-python",
   "name": "python",
   "nbconvert_exporter": "python",
   "pygments_lexer": "ipython3",
   "version": "3.11.9"
  }
 },
 "nbformat": 4,
 "nbformat_minor": 2
}
