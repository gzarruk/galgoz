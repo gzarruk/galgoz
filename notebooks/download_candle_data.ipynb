{
 "cells": [
  {
   "cell_type": "code",
   "execution_count": 32,
   "metadata": {},
   "outputs": [
    {
     "name": "stdout",
     "output_type": "stream",
     "text": [
      "The autoreload extension is already loaded. To reload it, use:\n",
      "  %reload_ext autoreload\n"
     ]
    }
   ],
   "source": [
    "%load_ext autoreload\n",
    "%autoreload 2\n",
    "import sys\n",
    "# map folder using sys\n",
    "sys.path.append('../')\n",
    "from galgoz import Galgoz\n",
    "from datetime import datetime as dt\n",
    "\n",
    "gz = Galgoz()"
   ]
  },
  {
   "cell_type": "code",
   "execution_count": 33,
   "metadata": {},
   "outputs": [],
   "source": [
    "date_from = \"2003-06-02T00:00:00Z\"\n",
    "date_to = \"2024-12-28T00:00:00Z\"\n",
    "\n",
    "#data = gz.fetch_candles(date_from=date_from, date_to=date_to, price=\"M\", granularity=\"D\")\n",
    "    \n"
   ]
  },
  {
   "cell_type": "code",
   "execution_count": 34,
   "metadata": {},
   "outputs": [
    {
     "name": "stdout",
     "output_type": "stream",
     "text": [
      "Fetching candles from 2003-06-02 00:00:00 to 2003-12-27 08:00:00\n",
      "Total candles fetched: 179\n",
      "Fetching candles from 2003-12-27 08:00:00 to 2004-07-22 16:00:00\n",
      "Total candles fetched: 178\n",
      "Fetching candles from 2004-07-22 16:00:00 to 2005-02-16 00:00:00\n",
      "Total candles fetched: 943\n",
      "Fetching candles from 2005-02-16 00:00:00 to 2005-09-12 08:00:00\n",
      "Total candles fetched: 3685\n",
      "Fetching candles from 2005-09-12 08:00:00 to 2006-04-08 16:00:00\n",
      "Total candles fetched: 3734\n",
      "Fetching candles from 2006-04-08 16:00:00 to 2006-11-03 00:00:00\n",
      "Total candles fetched: 3675\n",
      "Fetching candles from 2006-11-03 00:00:00 to 2007-05-30 08:00:00\n",
      "Total candles fetched: 3617\n",
      "Fetching candles from 2007-05-30 08:00:00 to 2007-12-24 16:00:00\n",
      "Total candles fetched: 3671\n",
      "Fetching candles from 2007-12-24 16:00:00 to 2008-07-20 00:00:00\n",
      "Total candles fetched: 3654\n",
      "Fetching candles from 2008-07-20 00:00:00 to 2009-02-13 08:00:00\n",
      "Total candles fetched: 3683\n",
      "Fetching candles from 2009-02-13 08:00:00 to 2009-09-09 16:00:00\n",
      "Total candles fetched: 3651\n",
      "Fetching candles from 2009-09-09 16:00:00 to 2010-04-06 00:00:00\n",
      "Total candles fetched: 3668\n",
      "Fetching candles from 2010-04-06 00:00:00 to 2010-10-31 08:00:00\n",
      "Total candles fetched: 3688\n",
      "Fetching candles from 2010-10-31 08:00:00 to 2011-05-27 16:00:00\n",
      "Total candles fetched: 4085\n",
      "Fetching candles from 2011-05-27 16:00:00 to 2011-12-22 00:00:00\n",
      "Total candles fetched: 4137\n",
      "Fetching candles from 2011-12-22 00:00:00 to 2012-07-17 08:00:00\n",
      "Total candles fetched: 3691\n",
      "Fetching candles from 2012-07-17 08:00:00 to 2013-02-10 16:00:00\n",
      "Total candles fetched: 3577\n",
      "Fetching candles from 2013-02-10 16:00:00 to 2013-09-07 00:00:00\n",
      "Total candles fetched: 3604\n",
      "Fetching candles from 2013-09-07 00:00:00 to 2014-04-03 08:00:00\n",
      "Total candles fetched: 3509\n",
      "Fetching candles from 2014-04-03 08:00:00 to 2014-10-28 16:00:00\n",
      "Total candles fetched: 3560\n",
      "Fetching candles from 2014-10-28 16:00:00 to 2015-05-25 00:00:00\n",
      "Total candles fetched: 3506\n",
      "Fetching candles from 2015-05-25 00:00:00 to 2015-12-19 08:00:00\n",
      "Total candles fetched: 3598\n",
      "Fetching candles from 2015-12-19 08:00:00 to 2016-07-14 16:00:00\n",
      "Total candles fetched: 3517\n",
      "Fetching candles from 2016-07-14 16:00:00 to 2017-02-08 00:00:00\n",
      "Total candles fetched: 3509\n",
      "Fetching candles from 2017-02-08 00:00:00 to 2017-09-04 08:00:00\n",
      "Total candles fetched: 3561\n",
      "Fetching candles from 2017-09-04 08:00:00 to 2018-03-31 16:00:00\n",
      "Total candles fetched: 3543\n",
      "Fetching candles from 2018-03-31 16:00:00 to 2018-10-26 00:00:00\n",
      "Total candles fetched: 3579\n",
      "Fetching candles from 2018-10-26 00:00:00 to 2019-05-22 08:00:00\n",
      "Total candles fetched: 3513\n",
      "Fetching candles from 2019-05-22 08:00:00 to 2019-12-16 16:00:00\n",
      "Total candles fetched: 3561\n",
      "Fetching candles from 2019-12-16 16:00:00 to 2020-07-12 00:00:00\n",
      "Total candles fetched: 3533\n",
      "Fetching candles from 2020-07-12 00:00:00 to 2021-02-05 08:00:00\n",
      "Total candles fetched: 3538\n",
      "Fetching candles from 2021-02-05 08:00:00 to 2021-09-01 16:00:00\n",
      "Total candles fetched: 3561\n",
      "Fetching candles from 2021-09-01 16:00:00 to 2022-03-29 00:00:00\n",
      "Total candles fetched: 3558\n",
      "Fetching candles from 2022-03-29 00:00:00 to 2022-10-23 08:00:00\n",
      "Total candles fetched: 3569\n",
      "Fetching candles from 2022-10-23 08:00:00 to 2023-05-19 16:00:00\n",
      "Total candles fetched: 3570\n",
      "Fetching candles from 2023-05-19 16:00:00 to 2023-12-14 00:00:00\n",
      "Total candles fetched: 3559\n",
      "Fetching candles from 2023-12-14 00:00:00 to 2024-07-09 08:00:00\n",
      "Total candles fetched: 3511\n",
      "Fetching candles from 2024-07-09 08:00:00 to 2024-12-28 00:00:00\n",
      "Total candles fetched: 2941\n",
      "Data saved to /Users/gaz/galgoz/data/GBP_JPY_H1.pkl\n"
     ]
    }
   ],
   "source": [
    "gz.store_data(date_from=date_from, date_to=date_to, price=\"M\", granularity=\"H1\")"
   ]
  }
 ],
 "metadata": {
  "kernelspec": {
   "display_name": ".venv",
   "language": "python",
   "name": "python3"
  },
  "language_info": {
   "codemirror_mode": {
    "name": "ipython",
    "version": 3
   },
   "file_extension": ".py",
   "mimetype": "text/x-python",
   "name": "python",
   "nbconvert_exporter": "python",
   "pygments_lexer": "ipython3",
   "version": "3.11.9"
  }
 },
 "nbformat": 4,
 "nbformat_minor": 2
}
