{
 "cells": [
  {
   "cell_type": "code",
   "execution_count": 1,
   "metadata": {},
   "outputs": [],
   "source": [
    "import sys\n",
    "# map folder using sys\n",
    "sys.path.append('../')\n",
    "from galgoz import Galgoz\n",
    "import pandas as pd"
   ]
  },
  {
   "cell_type": "code",
   "execution_count": 2,
   "metadata": {},
   "outputs": [],
   "source": [
    "gz = Galgoz()\n",
    "instruments = gz.fetch_instruments()\n"
   ]
  },
  {
   "cell_type": "markdown",
   "metadata": {},
   "source": [
    "### Display metadata for the first instrument"
   ]
  },
  {
   "cell_type": "code",
   "execution_count": 3,
   "metadata": {},
   "outputs": [
    {
     "name": "stdout",
     "output_type": "stream",
     "text": [
      "Total number instruments available: 123\n"
     ]
    },
    {
     "data": {
      "text/plain": [
       "{'name': 'XAG_SGD',\n",
       " 'type': 'METAL',\n",
       " 'displayName': 'Silver/SGD',\n",
       " 'pipLocation': -4,\n",
       " 'displayPrecision': 5,\n",
       " 'tradeUnitsPrecision': 0,\n",
       " 'minimumTradeSize': '1',\n",
       " 'maximumTrailingStopDistance': '1.00000',\n",
       " 'minimumTrailingStopDistance': '0.00050',\n",
       " 'maximumPositionSize': '0',\n",
       " 'maximumOrderUnits': '500000',\n",
       " 'marginRate': '0.1',\n",
       " 'guaranteedStopLossOrderMode': 'DISABLED',\n",
       " 'tags': [{'type': 'ASSET_CLASS', 'name': 'COMMODITY'},\n",
       "  {'type': 'KID_ASSET_CLASS', 'name': 'METAL'},\n",
       "  {'type': 'BRAIN_ASSET_CLASS', 'name': 'METAL'}],\n",
       " 'financing': {'longRate': '-0.0588',\n",
       "  'shortRate': '0.0051',\n",
       "  'financingDaysOfWeek': [{'dayOfWeek': 'MONDAY', 'daysCharged': 1},\n",
       "   {'dayOfWeek': 'TUESDAY', 'daysCharged': 1},\n",
       "   {'dayOfWeek': 'WEDNESDAY', 'daysCharged': 1},\n",
       "   {'dayOfWeek': 'THURSDAY', 'daysCharged': 1},\n",
       "   {'dayOfWeek': 'FRIDAY', 'daysCharged': 1},\n",
       "   {'dayOfWeek': 'SATURDAY', 'daysCharged': 0},\n",
       "   {'dayOfWeek': 'SUNDAY', 'daysCharged': 0}]}}"
      ]
     },
     "execution_count": 3,
     "metadata": {},
     "output_type": "execute_result"
    }
   ],
   "source": [
    "print(f\"Total number instruments available: {len(instruments)}\")\n",
    "instruments[0]\n"
   ]
  },
  {
   "cell_type": "markdown",
   "metadata": {},
   "source": [
    "### Open a market order on GBP/JPY"
   ]
  },
  {
   "cell_type": "code",
   "execution_count": null,
   "metadata": {},
   "outputs": [
    {
     "name": "stdout",
     "output_type": "stream",
     "text": [
      "{'orderCreateTransaction': {'id': '292', 'accountID': '101-004-18838738-002', 'userID': 18838738, 'batchID': '292', 'requestID': '61318380533801109', 'time': '2024-12-18T16:27:51.597229153Z', 'type': 'MARKET_ORDER', 'instrument': 'GBP_JPY', 'units': '1', 'timeInForce': 'FOK', 'positionFill': 'DEFAULT', 'reason': 'CLIENT_ORDER'}, 'orderFillTransaction': {'id': '293', 'accountID': '101-004-18838738-002', 'userID': 18838738, 'batchID': '292', 'requestID': '61318380533801109', 'time': '2024-12-18T16:27:51.597229153Z', 'type': 'ORDER_FILL', 'orderID': '292', 'instrument': 'GBP_JPY', 'units': '1', 'requestedUnits': '1', 'price': '195.527', 'pl': '0.0000', 'quotePL': '0', 'financing': '0.0000', 'baseFinancing': '0', 'commission': '0.0000', 'accountBalance': '51264.3553', 'gainQuoteHomeConversionFactor': '0.006460220966', 'lossQuoteHomeConversionFactor': '0.00652514781', 'guaranteedExecutionFee': '0.0000', 'quoteGuaranteedExecutionFee': '0', 'halfSpreadCost': '0.0001', 'fullVWAP': '195.527', 'reason': 'MARKET_ORDER', 'tradeOpened': {'price': '195.527', 'tradeID': '293', 'units': '1', 'guaranteedExecutionFee': '0.0000', 'quoteGuaranteedExecutionFee': '0', 'halfSpreadCost': '0.0001', 'initialMarginRequired': '0.0423'}, 'fullPrice': {'closeoutBid': '195.453', 'closeoutAsk': '195.573', 'timestamp': '2024-12-18T16:27:48.254697732Z', 'bids': [{'price': '195.498', 'liquidity': '500000'}, {'price': '195.496', 'liquidity': '500000'}, {'price': '195.495', 'liquidity': '2000000'}, {'price': '195.491', 'liquidity': '2000000'}, {'price': '195.487', 'liquidity': '5000000'}, {'price': '195.473', 'liquidity': '10000000'}, {'price': '195.453', 'liquidity': '5000000'}], 'asks': [{'price': '195.527', 'liquidity': '500000'}, {'price': '195.530', 'liquidity': '500000'}, {'price': '195.531', 'liquidity': '2000000'}, {'price': '195.534', 'liquidity': '2000000'}, {'price': '195.539', 'liquidity': '5000000'}, {'price': '195.553', 'liquidity': '10000000'}, {'price': '195.573', 'liquidity': '5000000'}]}, 'homeConversionFactors': {'gainQuoteHome': {'factor': '0.00646022096572'}, 'lossQuoteHome': {'factor': '0.00652514780960'}, 'gainBaseHome': {'factor': '1.26305300'}, 'lossBaseHome': {'factor': '1.27574700'}}}, 'relatedTransactionIDs': ['292', '293'], 'lastTransactionID': '293'}\n"
     ]
    }
   ],
   "source": [
    "res = gz.create_order(\n",
    "    units=1,\n",
    "    type='MARKET'\n",
    ")\n",
    "res\n"
   ]
  },
  {
   "cell_type": "code",
   "execution_count": 6,
   "metadata": {},
   "outputs": [
    {
     "data": {
      "text/plain": [
       "{'orderCreateTransaction': {'id': '292',\n",
       "  'accountID': '101-004-18838738-002',\n",
       "  'userID': 18838738,\n",
       "  'batchID': '292',\n",
       "  'requestID': '61318380533801109',\n",
       "  'time': '2024-12-18T16:27:51.597229153Z',\n",
       "  'type': 'MARKET_ORDER',\n",
       "  'instrument': 'GBP_JPY',\n",
       "  'units': '1',\n",
       "  'timeInForce': 'FOK',\n",
       "  'positionFill': 'DEFAULT',\n",
       "  'reason': 'CLIENT_ORDER'},\n",
       " 'orderFillTransaction': {'id': '293',\n",
       "  'accountID': '101-004-18838738-002',\n",
       "  'userID': 18838738,\n",
       "  'batchID': '292',\n",
       "  'requestID': '61318380533801109',\n",
       "  'time': '2024-12-18T16:27:51.597229153Z',\n",
       "  'type': 'ORDER_FILL',\n",
       "  'orderID': '292',\n",
       "  'instrument': 'GBP_JPY',\n",
       "  'units': '1',\n",
       "  'requestedUnits': '1',\n",
       "  'price': '195.527',\n",
       "  'pl': '0.0000',\n",
       "  'quotePL': '0',\n",
       "  'financing': '0.0000',\n",
       "  'baseFinancing': '0',\n",
       "  'commission': '0.0000',\n",
       "  'accountBalance': '51264.3553',\n",
       "  'gainQuoteHomeConversionFactor': '0.006460220966',\n",
       "  'lossQuoteHomeConversionFactor': '0.00652514781',\n",
       "  'guaranteedExecutionFee': '0.0000',\n",
       "  'quoteGuaranteedExecutionFee': '0',\n",
       "  'halfSpreadCost': '0.0001',\n",
       "  'fullVWAP': '195.527',\n",
       "  'reason': 'MARKET_ORDER',\n",
       "  'tradeOpened': {'price': '195.527',\n",
       "   'tradeID': '293',\n",
       "   'units': '1',\n",
       "   'guaranteedExecutionFee': '0.0000',\n",
       "   'quoteGuaranteedExecutionFee': '0',\n",
       "   'halfSpreadCost': '0.0001',\n",
       "   'initialMarginRequired': '0.0423'},\n",
       "  'fullPrice': {'closeoutBid': '195.453',\n",
       "   'closeoutAsk': '195.573',\n",
       "   'timestamp': '2024-12-18T16:27:48.254697732Z',\n",
       "   'bids': [{'price': '195.498', 'liquidity': '500000'},\n",
       "    {'price': '195.496', 'liquidity': '500000'},\n",
       "    {'price': '195.495', 'liquidity': '2000000'},\n",
       "    {'price': '195.491', 'liquidity': '2000000'},\n",
       "    {'price': '195.487', 'liquidity': '5000000'},\n",
       "    {'price': '195.473', 'liquidity': '10000000'},\n",
       "    {'price': '195.453', 'liquidity': '5000000'}],\n",
       "   'asks': [{'price': '195.527', 'liquidity': '500000'},\n",
       "    {'price': '195.530', 'liquidity': '500000'},\n",
       "    {'price': '195.531', 'liquidity': '2000000'},\n",
       "    {'price': '195.534', 'liquidity': '2000000'},\n",
       "    {'price': '195.539', 'liquidity': '5000000'},\n",
       "    {'price': '195.553', 'liquidity': '10000000'},\n",
       "    {'price': '195.573', 'liquidity': '5000000'}]},\n",
       "  'homeConversionFactors': {'gainQuoteHome': {'factor': '0.00646022096572'},\n",
       "   'lossQuoteHome': {'factor': '0.00652514780960'},\n",
       "   'gainBaseHome': {'factor': '1.26305300'},\n",
       "   'lossBaseHome': {'factor': '1.27574700'}}},\n",
       " 'relatedTransactionIDs': ['292', '293'],\n",
       " 'lastTransactionID': '293'}"
      ]
     },
     "execution_count": 6,
     "metadata": {},
     "output_type": "execute_result"
    }
   ],
   "source": [
    "res"
   ]
  },
  {
   "cell_type": "code",
   "execution_count": null,
   "metadata": {},
   "outputs": [],
   "source": []
  }
 ],
 "metadata": {
  "kernelspec": {
   "display_name": "Python 3",
   "language": "python",
   "name": "python3"
  },
  "language_info": {
   "codemirror_mode": {
    "name": "ipython",
    "version": 3
   },
   "file_extension": ".py",
   "mimetype": "text/x-python",
   "name": "python",
   "nbconvert_exporter": "python",
   "pygments_lexer": "ipython3",
   "version": "3.11.9"
  }
 },
 "nbformat": 4,
 "nbformat_minor": 2
}
