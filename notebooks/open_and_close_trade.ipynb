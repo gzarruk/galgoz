{
 "cells": [
  {
   "cell_type": "code",
   "execution_count": null,
   "metadata": {},
   "outputs": [],
   "source": [
    "%load_ext autoreload\n",
    "%autoreload 2\n",
    "import sys\n",
    "sys.path.append('../')\n",
    "from galgoz import Galgoz"
   ]
  },
  {
   "cell_type": "markdown",
   "metadata": {},
   "source": [
    "### Open a market order on GBP/JPY"
   ]
  },
  {
   "cell_type": "code",
   "execution_count": 4,
   "metadata": {},
   "outputs": [
    {
     "data": {
      "text/plain": [
       "{'orderCreateTransaction': {'id': '329',\n",
       "  'accountID': '101-004-18838738-002',\n",
       "  'userID': 18838738,\n",
       "  'batchID': '329',\n",
       "  'requestID': '115363286976568445',\n",
       "  'time': '2024-12-23T09:46:25.978692717Z',\n",
       "  'type': 'MARKET_ORDER',\n",
       "  'instrument': 'GBP_JPY',\n",
       "  'units': '100',\n",
       "  'timeInForce': 'FOK',\n",
       "  'positionFill': 'DEFAULT',\n",
       "  'reason': 'CLIENT_ORDER'},\n",
       " 'orderFillTransaction': {'id': '330',\n",
       "  'accountID': '101-004-18838738-002',\n",
       "  'userID': 18838738,\n",
       "  'batchID': '329',\n",
       "  'requestID': '115363286976568445',\n",
       "  'time': '2024-12-23T09:46:25.978692717Z',\n",
       "  'type': 'ORDER_FILL',\n",
       "  'orderID': '329',\n",
       "  'instrument': 'GBP_JPY',\n",
       "  'units': '100',\n",
       "  'requestedUnits': '100',\n",
       "  'price': '196.896',\n",
       "  'pl': '0.0000',\n",
       "  'quotePL': '0',\n",
       "  'financing': '0.0000',\n",
       "  'baseFinancing': '0',\n",
       "  'commission': '0.0000',\n",
       "  'accountBalance': '51264.3324',\n",
       "  'gainQuoteHomeConversionFactor': '0.006352003144',\n",
       "  'lossQuoteHomeConversionFactor': '0.006415842371',\n",
       "  'guaranteedExecutionFee': '0.0000',\n",
       "  'quoteGuaranteedExecutionFee': '0',\n",
       "  'halfSpreadCost': '0.0124',\n",
       "  'fullVWAP': '196.896',\n",
       "  'reason': 'MARKET_ORDER',\n",
       "  'tradeOpened': {'price': '196.896',\n",
       "   'tradeID': '330',\n",
       "   'units': '100',\n",
       "   'guaranteedExecutionFee': '0.0000',\n",
       "   'quoteGuaranteedExecutionFee': '0',\n",
       "   'halfSpreadCost': '0.0124',\n",
       "   'initialMarginRequired': '4.1900'},\n",
       "  'fullPrice': {'closeoutBid': '196.812',\n",
       "   'closeoutAsk': '196.942',\n",
       "   'timestamp': '2024-12-23T09:46:25.554858576Z',\n",
       "   'bids': [{'price': '196.857', 'liquidity': '500000'},\n",
       "    {'price': '196.855', 'liquidity': '500000'},\n",
       "    {'price': '196.854', 'liquidity': '2000000'},\n",
       "    {'price': '196.850', 'liquidity': '2000000'},\n",
       "    {'price': '196.846', 'liquidity': '5000000'},\n",
       "    {'price': '196.832', 'liquidity': '10000000'},\n",
       "    {'price': '196.812', 'liquidity': '5000000'}],\n",
       "   'asks': [{'price': '196.896', 'liquidity': '500000'},\n",
       "    {'price': '196.899', 'liquidity': '500000'},\n",
       "    {'price': '196.900', 'liquidity': '2000000'},\n",
       "    {'price': '196.903', 'liquidity': '2000000'},\n",
       "    {'price': '196.908', 'liquidity': '5000000'},\n",
       "    {'price': '196.922', 'liquidity': '10000000'},\n",
       "    {'price': '196.942', 'liquidity': '5000000'}]},\n",
       "  'homeConversionFactors': {'gainQuoteHome': {'factor': '0.00635200314389'},\n",
       "   'lossQuoteHome': {'factor': '0.00641584237147'},\n",
       "   'gainBaseHome': {'factor': '1.25071500'},\n",
       "   'lossBaseHome': {'factor': '1.26328500'}}},\n",
       " 'relatedTransactionIDs': ['329', '330'],\n",
       " 'lastTransactionID': '330'}"
      ]
     },
     "execution_count": 4,
     "metadata": {},
     "output_type": "execute_result"
    }
   ],
   "source": [
    "gz=Galgoz()\n",
    "\n",
    "res = gz.create_order(\n",
    "    units=100,\n",
    "    type='MARKET'\n",
    ")\n",
    "res\n"
   ]
  },
  {
   "cell_type": "code",
   "execution_count": null,
   "metadata": {},
   "outputs": [
    {
     "name": "stdout",
     "output_type": "stream",
     "text": [
      "Filled order id: 328\n"
     ]
    }
   ],
   "source": [
    "trade_id = res['orderFillTransaction']['id']\n",
    "units = res['orderFillTransaction']['units']\n",
    "print(f\"Filled order id: {trade_id}\")"
   ]
  },
  {
   "cell_type": "code",
   "execution_count": null,
   "metadata": {},
   "outputs": [],
   "source": [
    "gz.close_trade(trade_id=trade_id, units=units)"
   ]
  },
  {
   "cell_type": "code",
   "execution_count": null,
   "metadata": {},
   "outputs": [],
   "source": []
  }
 ],
 "metadata": {
  "kernelspec": {
   "display_name": "Python 3",
   "language": "python",
   "name": "python3"
  },
  "language_info": {
   "codemirror_mode": {
    "name": "ipython",
    "version": 3
   },
   "file_extension": ".py",
   "mimetype": "text/x-python",
   "name": "python",
   "nbconvert_exporter": "python",
   "pygments_lexer": "ipython3",
   "version": "3.11.9"
  }
 },
 "nbformat": 4,
 "nbformat_minor": 2
}
