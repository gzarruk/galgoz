{
 "cells": [
  {
   "cell_type": "code",
   "execution_count": 1,
   "metadata": {},
   "outputs": [],
   "source": [
    "%load_ext autoreload\n",
    "%autoreload 2\n",
    "import sys\n",
    "sys.path.append('../')\n",
    "from galgoz import Galgoz"
   ]
  },
  {
   "cell_type": "markdown",
   "metadata": {},
   "source": [
    "### Open a market order on GBP/JPY"
   ]
  },
  {
   "cell_type": "code",
   "execution_count": 2,
   "metadata": {},
   "outputs": [
    {
     "name": "stdout",
     "output_type": "stream",
     "text": [
      "Order created successfully.\n"
     ]
    }
   ],
   "source": [
    "gz=Galgoz()\n",
    "\n",
    "res = gz.create_order(\n",
    "    units=100,\n",
    "    type='MARKET'\n",
    ")"
   ]
  },
  {
   "cell_type": "code",
   "execution_count": null,
   "metadata": {},
   "outputs": [],
   "source": [
    "trade_id = res['orderFillTransaction']['id']\n",
    "units = res['orderFillTransaction']['units']\n",
    "print(f\"Filled order id: {trade_id}\")"
   ]
  },
  {
   "cell_type": "markdown",
   "metadata": {},
   "source": [
    "### Close the trade"
   ]
  },
  {
   "cell_type": "code",
   "execution_count": null,
   "metadata": {},
   "outputs": [],
   "source": [
    "gz.close_trade(trade_id=trade_id, units=units)"
   ]
  },
  {
   "cell_type": "code",
   "execution_count": 3,
   "metadata": {},
   "outputs": [
    {
     "data": {
      "text/plain": [
       "{'orderCreateTransaction': {'id': '376',\n",
       "  'accountID': '101-004-18838738-002',\n",
       "  'userID': 18838738,\n",
       "  'batchID': '376',\n",
       "  'requestID': '97365592645402164',\n",
       "  'time': '2025-02-07T12:02:51.482130355Z',\n",
       "  'type': 'MARKET_ORDER',\n",
       "  'instrument': 'GBP_JPY',\n",
       "  'units': '100',\n",
       "  'timeInForce': 'FOK',\n",
       "  'positionFill': 'DEFAULT',\n",
       "  'reason': 'CLIENT_ORDER'},\n",
       " 'orderFillTransaction': {'id': '377',\n",
       "  'accountID': '101-004-18838738-002',\n",
       "  'userID': 18838738,\n",
       "  'batchID': '376',\n",
       "  'requestID': '97365592645402164',\n",
       "  'time': '2025-02-07T12:02:51.482130355Z',\n",
       "  'type': 'ORDER_FILL',\n",
       "  'orderID': '376',\n",
       "  'instrument': 'GBP_JPY',\n",
       "  'units': '100',\n",
       "  'requestedUnits': '100',\n",
       "  'price': '189.436',\n",
       "  'pl': '0.0000',\n",
       "  'quotePL': '0',\n",
       "  'financing': '0.0000',\n",
       "  'baseFinancing': '0',\n",
       "  'commission': '0.0000',\n",
       "  'accountBalance': '51264.0848',\n",
       "  'gainQuoteHomeConversionFactor': '0.006540200896',\n",
       "  'lossQuoteHomeConversionFactor': '0.006605931558',\n",
       "  'guaranteedExecutionFee': '0.0000',\n",
       "  'quoteGuaranteedExecutionFee': '0',\n",
       "  'halfSpreadCost': '0.0095',\n",
       "  'fullVWAP': '189.436',\n",
       "  'reason': 'MARKET_ORDER',\n",
       "  'tradeOpened': {'price': '189.436',\n",
       "   'tradeID': '377',\n",
       "   'units': '100',\n",
       "   'guaranteedExecutionFee': '0.0000',\n",
       "   'quoteGuaranteedExecutionFee': '0',\n",
       "   'halfSpreadCost': '0.0095',\n",
       "   'initialMarginRequired': '4.1502'},\n",
       "  'fullPrice': {'closeoutBid': '189.362',\n",
       "   'closeoutAsk': '189.482',\n",
       "   'timestamp': '2025-02-07T12:02:50.304847450Z',\n",
       "   'bids': [{'price': '189.407', 'liquidity': '500000'},\n",
       "    {'price': '189.405', 'liquidity': '500000'},\n",
       "    {'price': '189.404', 'liquidity': '2000000'},\n",
       "    {'price': '189.400', 'liquidity': '2000000'},\n",
       "    {'price': '189.396', 'liquidity': '5000000'},\n",
       "    {'price': '189.382', 'liquidity': '10000000'},\n",
       "    {'price': '189.362', 'liquidity': '5000000'}],\n",
       "   'asks': [{'price': '189.436', 'liquidity': '500000'},\n",
       "    {'price': '189.439', 'liquidity': '500000'},\n",
       "    {'price': '189.440', 'liquidity': '2000000'},\n",
       "    {'price': '189.443', 'liquidity': '2000000'},\n",
       "    {'price': '189.448', 'liquidity': '5000000'},\n",
       "    {'price': '189.462', 'liquidity': '10000000'},\n",
       "    {'price': '189.482', 'liquidity': '5000000'}]},\n",
       "  'homeConversionFactors': {'gainQuoteHome': {'factor': '0.00654020089579'},\n",
       "   'lossQuoteHome': {'factor': '0.00660593155805'},\n",
       "   'gainBaseHome': {'factor': '1.23883470'},\n",
       "   'lossBaseHome': {'factor': '1.25128530'}}},\n",
       " 'relatedTransactionIDs': ['376', '377'],\n",
       " 'lastTransactionID': '377'}"
      ]
     },
     "execution_count": 3,
     "metadata": {},
     "output_type": "execute_result"
    }
   ],
   "source": [
    "res"
   ]
  },
  {
   "cell_type": "code",
   "execution_count": null,
   "metadata": {},
   "outputs": [],
   "source": [
    "\n"
   ]
  }
 ],
 "metadata": {
  "kernelspec": {
   "display_name": ".venv",
   "language": "python",
   "name": "python3"
  },
  "language_info": {
   "codemirror_mode": {
    "name": "ipython",
    "version": 3
   },
   "file_extension": ".py",
   "mimetype": "text/x-python",
   "name": "python",
   "nbconvert_exporter": "python",
   "pygments_lexer": "ipython3",
   "version": "3.11.9"
  }
 },
 "nbformat": 4,
 "nbformat_minor": 2
}
