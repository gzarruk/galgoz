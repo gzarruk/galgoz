{
 "cells": [
  {
   "cell_type": "code",
   "execution_count": 26,
   "metadata": {},
   "outputs": [
    {
     "name": "stdout",
     "output_type": "stream",
     "text": [
      "The autoreload extension is already loaded. To reload it, use:\n",
      "  %reload_ext autoreload\n"
     ]
    }
   ],
   "source": [
    "\n",
    "%load_ext autoreload\n",
    "%autoreload 2\n",
    "import sys\n",
    "# map folder using sys\n",
    "#sys.path.append('../')\n",
    "import pandas as pd\n",
    "import numpy as np\n",
    "from galgoz import DATA_FOLDER\n",
    "from galgoz import Galgoz\n",
    "import numpy as np\n",
    "from plotly import graph_objects as go\n",
    "from talib import RSI as rsi\n",
    "from galgoz.indicators.oscillators import qqe, RSI, QQE\n"
   ]
  },
  {
   "cell_type": "code",
   "execution_count": 27,
   "metadata": {},
   "outputs": [],
   "source": [
    "filename = DATA_FOLDER / \"GBP_JPY_H1.pkl\"\n",
    "data = pd.read_pickle(filename)\n",
    "data[\"time\"] = pd.to_datetime(data[\"time\"])\n",
    "data.set_index(\"time\", inplace=True)\n",
    "data[\"time_str\"] = data.index.strftime(\" %-b %d, '%y %H:%M\")\n",
    "data[[\"mid_o\", \"mid_h\", \"mid_l\", \"mid_c\"]] = data[[\"mid_o\", \"mid_h\", \"mid_l\", \"mid_c\"]].astype(float)"
   ]
  },
  {
   "cell_type": "code",
   "execution_count": 28,
   "metadata": {},
   "outputs": [
    {
     "data": {
      "text/plain": [
       "QQE(name='QQE', data=                           complete   volume    mid_o    mid_h    mid_l  \\\n",
       "time                                                                      \n",
       "2005-01-02 18:00:00+00:00         1      4.0  196.780  196.820  196.750   \n",
       "2005-01-02 19:00:00+00:00         1     54.0  196.910  197.210  196.880   \n",
       "2005-01-02 20:00:00+00:00         1    127.0  197.120  197.250  197.030   \n",
       "2005-01-02 21:00:00+00:00         1    199.0  197.180  197.300  197.080   \n",
       "2005-01-02 22:00:00+00:00         1    144.0  197.140  197.150  196.920   \n",
       "...                             ...      ...      ...      ...      ...   \n",
       "2024-12-27 17:00:00+00:00         1  14708.0  198.268  198.274  198.018   \n",
       "2024-12-27 18:00:00+00:00         1  12225.0  198.234  198.392  198.197   \n",
       "2024-12-27 19:00:00+00:00         1  11845.0  198.360  198.714  198.314   \n",
       "2024-12-27 20:00:00+00:00         1   9335.0  198.714  198.718  198.528   \n",
       "2024-12-27 21:00:00+00:00         1   4605.0  198.649  198.661  198.408   \n",
       "\n",
       "                             mid_c            time_str  \n",
       "time                                                    \n",
       "2005-01-02 18:00:00+00:00  196.790   Jan 02, '05 18:00  \n",
       "2005-01-02 19:00:00+00:00  197.130   Jan 02, '05 19:00  \n",
       "2005-01-02 20:00:00+00:00  197.180   Jan 02, '05 20:00  \n",
       "2005-01-02 21:00:00+00:00  197.150   Jan 02, '05 21:00  \n",
       "2005-01-02 22:00:00+00:00  196.950   Jan 02, '05 22:00  \n",
       "...                            ...                 ...  \n",
       "2024-12-27 17:00:00+00:00  198.234   Dec 27, '24 17:00  \n",
       "2024-12-27 18:00:00+00:00  198.365   Dec 27, '24 18:00  \n",
       "2024-12-27 19:00:00+00:00  198.714   Dec 27, '24 19:00  \n",
       "2024-12-27 20:00:00+00:00  198.650   Dec 27, '24 20:00  \n",
       "2024-12-27 21:00:00+00:00  198.562   Dec 27, '24 21:00  \n",
       "\n",
       "[126920 rows x 7 columns], row=2, mode='lines', line={'color': 'blue', 'width': 2}, marker={'size': 5, 'color': 'blue', 'symbol': 'circle'}, output=                            qqe_fast   qqe_slow\n",
       "time                                           \n",
       "2005-01-02 18:00:00+00:00        NaN   0.000000\n",
       "2005-01-02 19:00:00+00:00        NaN   0.000000\n",
       "2005-01-02 20:00:00+00:00        NaN   0.000000\n",
       "2005-01-02 21:00:00+00:00        NaN   0.000000\n",
       "2005-01-02 22:00:00+00:00        NaN   0.000000\n",
       "...                              ...        ...\n",
       "2024-12-27 17:00:00+00:00  62.692684  73.085602\n",
       "2024-12-27 18:00:00+00:00  67.015093  73.085602\n",
       "2024-12-27 19:00:00+00:00  75.616567  64.910356\n",
       "2024-12-27 20:00:00+00:00  71.698138  64.910356\n",
       "2024-12-27 21:00:00+00:00  66.299320  64.910356\n",
       "\n",
       "[126920 rows x 2 columns], length=8, smooth=1, factor=1.618)"
      ]
     },
     "execution_count": 28,
     "metadata": {},
     "output_type": "execute_result"
    }
   ],
   "source": [
    "df = qqe(data)\n",
    "QQE(data)"
   ]
  },
  {
   "cell_type": "code",
   "execution_count": 29,
   "metadata": {},
   "outputs": [
    {
     "data": {
      "text/html": [
       "<div>\n",
       "<style scoped>\n",
       "    .dataframe tbody tr th:only-of-type {\n",
       "        vertical-align: middle;\n",
       "    }\n",
       "\n",
       "    .dataframe tbody tr th {\n",
       "        vertical-align: top;\n",
       "    }\n",
       "\n",
       "    .dataframe thead th {\n",
       "        text-align: right;\n",
       "    }\n",
       "</style>\n",
       "<table border=\"1\" class=\"dataframe\">\n",
       "  <thead>\n",
       "    <tr style=\"text-align: right;\">\n",
       "      <th></th>\n",
       "      <th>complete</th>\n",
       "      <th>volume</th>\n",
       "      <th>mid_o</th>\n",
       "      <th>mid_h</th>\n",
       "      <th>mid_l</th>\n",
       "      <th>mid_c</th>\n",
       "      <th>time_str</th>\n",
       "      <th>qqe_fast</th>\n",
       "      <th>qqe_slow</th>\n",
       "    </tr>\n",
       "    <tr>\n",
       "      <th>time</th>\n",
       "      <th></th>\n",
       "      <th></th>\n",
       "      <th></th>\n",
       "      <th></th>\n",
       "      <th></th>\n",
       "      <th></th>\n",
       "      <th></th>\n",
       "      <th></th>\n",
       "      <th></th>\n",
       "    </tr>\n",
       "  </thead>\n",
       "  <tbody>\n",
       "    <tr>\n",
       "      <th>2024-12-27 17:00:00+00:00</th>\n",
       "      <td>1</td>\n",
       "      <td>14708.0</td>\n",
       "      <td>198.268</td>\n",
       "      <td>198.274</td>\n",
       "      <td>198.018</td>\n",
       "      <td>198.234</td>\n",
       "      <td>Dec 27, '24 17:00</td>\n",
       "      <td>62.692684</td>\n",
       "      <td>73.085602</td>\n",
       "    </tr>\n",
       "    <tr>\n",
       "      <th>2024-12-27 18:00:00+00:00</th>\n",
       "      <td>1</td>\n",
       "      <td>12225.0</td>\n",
       "      <td>198.234</td>\n",
       "      <td>198.392</td>\n",
       "      <td>198.197</td>\n",
       "      <td>198.365</td>\n",
       "      <td>Dec 27, '24 18:00</td>\n",
       "      <td>67.015093</td>\n",
       "      <td>73.085602</td>\n",
       "    </tr>\n",
       "    <tr>\n",
       "      <th>2024-12-27 19:00:00+00:00</th>\n",
       "      <td>1</td>\n",
       "      <td>11845.0</td>\n",
       "      <td>198.360</td>\n",
       "      <td>198.714</td>\n",
       "      <td>198.314</td>\n",
       "      <td>198.714</td>\n",
       "      <td>Dec 27, '24 19:00</td>\n",
       "      <td>75.616567</td>\n",
       "      <td>64.910356</td>\n",
       "    </tr>\n",
       "    <tr>\n",
       "      <th>2024-12-27 20:00:00+00:00</th>\n",
       "      <td>1</td>\n",
       "      <td>9335.0</td>\n",
       "      <td>198.714</td>\n",
       "      <td>198.718</td>\n",
       "      <td>198.528</td>\n",
       "      <td>198.650</td>\n",
       "      <td>Dec 27, '24 20:00</td>\n",
       "      <td>71.698138</td>\n",
       "      <td>64.910356</td>\n",
       "    </tr>\n",
       "    <tr>\n",
       "      <th>2024-12-27 21:00:00+00:00</th>\n",
       "      <td>1</td>\n",
       "      <td>4605.0</td>\n",
       "      <td>198.649</td>\n",
       "      <td>198.661</td>\n",
       "      <td>198.408</td>\n",
       "      <td>198.562</td>\n",
       "      <td>Dec 27, '24 21:00</td>\n",
       "      <td>66.299320</td>\n",
       "      <td>64.910356</td>\n",
       "    </tr>\n",
       "  </tbody>\n",
       "</table>\n",
       "</div>"
      ],
      "text/plain": [
       "                           complete   volume    mid_o    mid_h    mid_l  \\\n",
       "time                                                                      \n",
       "2024-12-27 17:00:00+00:00         1  14708.0  198.268  198.274  198.018   \n",
       "2024-12-27 18:00:00+00:00         1  12225.0  198.234  198.392  198.197   \n",
       "2024-12-27 19:00:00+00:00         1  11845.0  198.360  198.714  198.314   \n",
       "2024-12-27 20:00:00+00:00         1   9335.0  198.714  198.718  198.528   \n",
       "2024-12-27 21:00:00+00:00         1   4605.0  198.649  198.661  198.408   \n",
       "\n",
       "                             mid_c            time_str   qqe_fast   qqe_slow  \n",
       "time                                                                          \n",
       "2024-12-27 17:00:00+00:00  198.234   Dec 27, '24 17:00  62.692684  73.085602  \n",
       "2024-12-27 18:00:00+00:00  198.365   Dec 27, '24 18:00  67.015093  73.085602  \n",
       "2024-12-27 19:00:00+00:00  198.714   Dec 27, '24 19:00  75.616567  64.910356  \n",
       "2024-12-27 20:00:00+00:00  198.650   Dec 27, '24 20:00  71.698138  64.910356  \n",
       "2024-12-27 21:00:00+00:00  198.562   Dec 27, '24 21:00  66.299320  64.910356  "
      ]
     },
     "execution_count": 29,
     "metadata": {},
     "output_type": "execute_result"
    }
   ],
   "source": [
    "df.tail()"
   ]
  },
  {
   "cell_type": "code",
   "execution_count": 12,
   "metadata": {},
   "outputs": [
    {
     "ename": "NameError",
     "evalue": "name 'df' is not defined",
     "output_type": "error",
     "traceback": [
      "\u001b[0;31m---------------------------------------------------------------------------\u001b[0m",
      "\u001b[0;31mNameError\u001b[0m                                 Traceback (most recent call last)",
      "Cell \u001b[0;32mIn[12], line 4\u001b[0m\n\u001b[1;32m      1\u001b[0m \u001b[38;5;28;01mfrom\u001b[39;00m\u001b[38;5;250m \u001b[39m\u001b[38;5;21;01mplotly\u001b[39;00m\u001b[38;5;21;01m.\u001b[39;00m\u001b[38;5;21;01msubplots\u001b[39;00m\u001b[38;5;250m \u001b[39m\u001b[38;5;28;01mimport\u001b[39;00m make_subplots\n\u001b[1;32m      3\u001b[0m \u001b[38;5;66;03m# Use only the last 1000 data points\u001b[39;00m\n\u001b[0;32m----> 4\u001b[0m df_last_1000 \u001b[38;5;241m=\u001b[39m \u001b[43mdf\u001b[49m\u001b[38;5;241m.\u001b[39mtail(\u001b[38;5;241m1000\u001b[39m)\n\u001b[1;32m      6\u001b[0m \u001b[38;5;66;03m# Create subplots with 2 rows and 1 column, with specified row heights\u001b[39;00m\n\u001b[1;32m      7\u001b[0m fig \u001b[38;5;241m=\u001b[39m make_subplots(rows\u001b[38;5;241m=\u001b[39m\u001b[38;5;241m2\u001b[39m, cols\u001b[38;5;241m=\u001b[39m\u001b[38;5;241m1\u001b[39m, row_heights\u001b[38;5;241m=\u001b[39m[\u001b[38;5;241m0.7\u001b[39m, \u001b[38;5;241m0.3\u001b[39m], shared_xaxes\u001b[38;5;241m=\u001b[39m\u001b[38;5;28;01mTrue\u001b[39;00m)\n",
      "\u001b[0;31mNameError\u001b[0m: name 'df' is not defined"
     ]
    }
   ],
   "source": [
    "from plotly.subplots import make_subplots\n",
    "\n",
    "# Use only the last 1000 data points\n",
    "df_last_1000 = df.tail(1000)\n",
    "\n",
    "# Create subplots with 2 rows and 1 column, with specified row heights\n",
    "fig = make_subplots(rows=2, cols=1, row_heights=[0.7, 0.3], shared_xaxes=True)\n",
    "\n",
    "# Add the candlestick plot to the first row\n",
    "fig.add_trace(\n",
    "    go.Candlestick(\n",
    "        x=df_last_1000['time_str'],\n",
    "        open=df_last_1000['mid_o'],\n",
    "        high=df_last_1000['mid_h'],\n",
    "        low=df_last_1000['mid_l'],\n",
    "        close=df_last_1000['mid_c'],\n",
    "        name='Candlesticks'\n",
    "    ),\n",
    "    row=1, col=1\n",
    ")\n",
    "\n",
    "# Add the qqe_fast and qqe_slow plots to the second row\n",
    "fig.add_trace(\n",
    "    go.Scatter(x=df_last_1000['time_str'], y=df_last_1000['qqe_fast'], name='QQE Fast'),\n",
    "    row=2, col=1\n",
    ")\n",
    "fig.add_trace(\n",
    "    go.Scatter(x=df_last_1000['time_str'], y=df_last_1000['qqe_slow'], name='QQE Slow'),\n",
    "    row=2, col=1\n",
    ")\n",
    "\n",
    "# Update layout\n",
    "fig.update_layout(height=800, title_text=\"Candlestick and QQE Indicators\", xaxis_rangeslider_visible=False)\n",
    "\n",
    "# Show the plot\n",
    "fig.show()"
   ]
  },
  {
   "cell_type": "code",
   "execution_count": null,
   "metadata": {},
   "outputs": [],
   "source": [
    "wmma"
   ]
  },
  {
   "cell_type": "code",
   "execution_count": null,
   "metadata": {},
   "outputs": [],
   "source": [
    "from plotly.subplots import make_subplots\n",
    "\n",
    "# Create subplots with 2 rows and 1 column, with specified row heights\n",
    "fig = make_subplots(rows=2, cols=1, row_heights=[0.7, 0.3])\n",
    "\n",
    "# Add the close price plot to the first row\n",
    "fig.add_trace(\n",
    "    go.Scatter(x=data.time_str, y=data['mid_c'], name='Close Price'),\n",
    "    row=1, col=1\n",
    ")\n",
    "\n",
    "# Add other plots to the second row (example: qqe_fast and qqe_slow)\n",
    "fig.add_trace(\n",
    "    go.Scatter(x=df.index, y=df['qqe_fast'], name='QQE Fast'),\n",
    "    row=2, col=1\n",
    ")\n",
    "fig.add_trace(\n",
    "    go.Scatter(x=df.index, y=df['qqe_slow'], name='QQE Slow'),\n",
    "    row=2, col=1\n",
    ")\n",
    "\n",
    "# Update layout\n",
    "fig.update_layout(height=800, title_text=\"Close Price and QQE Indicators\")\n",
    "\n",
    "# Show the plot\n",
    "fig.show()"
   ]
  },
  {
   "cell_type": "code",
   "execution_count": 22,
   "metadata": {},
   "outputs": [],
   "source": [
    "df = qqe(data)"
   ]
  },
  {
   "cell_type": "code",
   "execution_count": null,
   "metadata": {},
   "outputs": [],
   "source": [
    "df.tail()"
   ]
  },
  {
   "cell_type": "code",
   "execution_count": 19,
   "metadata": {},
   "outputs": [
    {
     "data": {
      "text/plain": [
       "RSI(name='RSI', data=                           complete   volume    mid_o    mid_h    mid_l  \\\n",
       "time                                                                      \n",
       "2005-01-02 18:00:00+00:00         1      4.0  196.780  196.820  196.750   \n",
       "2005-01-02 19:00:00+00:00         1     54.0  196.910  197.210  196.880   \n",
       "2005-01-02 20:00:00+00:00         1    127.0  197.120  197.250  197.030   \n",
       "2005-01-02 21:00:00+00:00         1    199.0  197.180  197.300  197.080   \n",
       "2005-01-02 22:00:00+00:00         1    144.0  197.140  197.150  196.920   \n",
       "...                             ...      ...      ...      ...      ...   \n",
       "2024-12-27 17:00:00+00:00         1  14708.0  198.268  198.274  198.018   \n",
       "2024-12-27 18:00:00+00:00         1  12225.0  198.234  198.392  198.197   \n",
       "2024-12-27 19:00:00+00:00         1  11845.0  198.360  198.714  198.314   \n",
       "2024-12-27 20:00:00+00:00         1   9335.0  198.714  198.718  198.528   \n",
       "2024-12-27 21:00:00+00:00         1   4605.0  198.649  198.661  198.408   \n",
       "\n",
       "                             mid_c            time_str  \n",
       "time                                                    \n",
       "2005-01-02 18:00:00+00:00  196.790   Jan 02, '05 18:00  \n",
       "2005-01-02 19:00:00+00:00  197.130   Jan 02, '05 19:00  \n",
       "2005-01-02 20:00:00+00:00  197.180   Jan 02, '05 20:00  \n",
       "2005-01-02 21:00:00+00:00  197.150   Jan 02, '05 21:00  \n",
       "2005-01-02 22:00:00+00:00  196.950   Jan 02, '05 22:00  \n",
       "...                            ...                 ...  \n",
       "2024-12-27 17:00:00+00:00  198.234   Dec 27, '24 17:00  \n",
       "2024-12-27 18:00:00+00:00  198.365   Dec 27, '24 18:00  \n",
       "2024-12-27 19:00:00+00:00  198.714   Dec 27, '24 19:00  \n",
       "2024-12-27 20:00:00+00:00  198.650   Dec 27, '24 20:00  \n",
       "2024-12-27 21:00:00+00:00  198.562   Dec 27, '24 21:00  \n",
       "\n",
       "[126920 rows x 7 columns], row=2, mode='lines', line={'color': 'blue', 'width': 2}, marker={'size': 5, 'color': 'blue', 'symbol': 'circle'}, output=time\n",
       "2005-01-02 18:00:00+00:00          NaN\n",
       "2005-01-02 19:00:00+00:00          NaN\n",
       "2005-01-02 20:00:00+00:00          NaN\n",
       "2005-01-02 21:00:00+00:00          NaN\n",
       "2005-01-02 22:00:00+00:00          NaN\n",
       "                               ...    \n",
       "2024-12-27 17:00:00+00:00    61.082123\n",
       "2024-12-27 18:00:00+00:00    63.652937\n",
       "2024-12-27 19:00:00+00:00    69.443983\n",
       "2024-12-27 20:00:00+00:00    67.325587\n",
       "2024-12-27 21:00:00+00:00    64.415858\n",
       "Name: RSI, Length: 126920, dtype: float64, window=14)"
      ]
     },
     "execution_count": 19,
     "metadata": {},
     "output_type": "execute_result"
    }
   ],
   "source": [
    "RSI(data, 14)"
   ]
  },
  {
   "cell_type": "code",
   "execution_count": null,
   "metadata": {},
   "outputs": [],
   "source": []
  }
 ],
 "metadata": {
  "kernelspec": {
   "display_name": "galgoz",
   "language": "python",
   "name": "galgoz"
  },
  "language_info": {
   "codemirror_mode": {
    "name": "ipython",
    "version": 3
   },
   "file_extension": ".py",
   "mimetype": "text/x-python",
   "name": "python",
   "nbconvert_exporter": "python",
   "pygments_lexer": "ipython3",
   "version": "3.11.9"
  }
 },
 "nbformat": 4,
 "nbformat_minor": 2
}
